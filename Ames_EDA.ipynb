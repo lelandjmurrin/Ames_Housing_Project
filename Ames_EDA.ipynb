{
 "cells": [
  {
   "cell_type": "code",
   "execution_count": 10,
   "metadata": {},
   "outputs": [],
   "source": [
    "import pandas as pd\n",
    "import numpy as np\n",
    "import matplotlib.pyplot as plt\n",
    "import seaborn as sns\n",
    "from Ames_Functions import *\n",
    "pd.set_option(\"display.max_columns\", None)"
   ]
  },
  {
   "cell_type": "code",
   "execution_count": 4,
   "metadata": {},
   "outputs": [
    {
     "name": "stderr",
     "output_type": "stream",
     "text": [
      "/var/folders/2n/5k95xl754cb_szsgjkmj33k80000gn/T/ipykernel_12150/560450826.py:1: DtypeWarning: Columns (36,40,81,87) have mixed types. Specify dtype option on import or set low_memory=False.\n",
      "  df_RE_latest = pd.read_csv(\"data/Ames_Real_Estate_Data_Latest.csv\")# ~22,000 records (2017-2022)\n"
     ]
    }
   ],
   "source": [
    "df_RE_latest = pd.read_csv(\"data/Ames_Real_Estate_Data_Latest.csv\")# ~22,000 records (2017-2022)\n",
    "df_housing2006 = pd.read_csv(\"data/Ames_Housing_Price_Data.csv\", index_col = 0) #2580 records\n",
    "df_RE_2021 = load_state_pkl()[\"df_RE_latlong2021\"][0]\n",
    "df_RE_2019 = load_state_pkl()[\"df_RE_latlong2019\"][0]"
   ]
  },
  {
   "cell_type": "code",
   "execution_count": 19,
   "metadata": {},
   "outputs": [
    {
     "data": {
      "text/html": [
       "<div>\n",
       "<style scoped>\n",
       "    .dataframe tbody tr th:only-of-type {\n",
       "        vertical-align: middle;\n",
       "    }\n",
       "\n",
       "    .dataframe tbody tr th {\n",
       "        vertical-align: top;\n",
       "    }\n",
       "\n",
       "    .dataframe thead th {\n",
       "        text-align: right;\n",
       "    }\n",
       "</style>\n",
       "<table border=\"1\" class=\"dataframe\">\n",
       "  <thead>\n",
       "    <tr style=\"text-align: right;\">\n",
       "      <th></th>\n",
       "      <th>LotArea</th>\n",
       "      <th>TtlBsmtSF</th>\n",
       "      <th>PoolArea</th>\n",
       "      <th>GarageArea</th>\n",
       "    </tr>\n",
       "  </thead>\n",
       "  <tbody>\n",
       "    <tr>\n",
       "      <th>count</th>\n",
       "      <td>18221.000000</td>\n",
       "      <td>18221.000000</td>\n",
       "      <td>18221.000000</td>\n",
       "      <td>18221.000000</td>\n",
       "    </tr>\n",
       "    <tr>\n",
       "      <th>mean</th>\n",
       "      <td>8701.858295</td>\n",
       "      <td>753.208715</td>\n",
       "      <td>2.431974</td>\n",
       "      <td>374.130564</td>\n",
       "    </tr>\n",
       "    <tr>\n",
       "      <th>std</th>\n",
       "      <td>11456.041449</td>\n",
       "      <td>639.754996</td>\n",
       "      <td>40.040136</td>\n",
       "      <td>278.454910</td>\n",
       "    </tr>\n",
       "    <tr>\n",
       "      <th>min</th>\n",
       "      <td>0.000000</td>\n",
       "      <td>0.000000</td>\n",
       "      <td>0.000000</td>\n",
       "      <td>0.000000</td>\n",
       "    </tr>\n",
       "    <tr>\n",
       "      <th>25%</th>\n",
       "      <td>2915.000000</td>\n",
       "      <td>0.000000</td>\n",
       "      <td>0.000000</td>\n",
       "      <td>166.000000</td>\n",
       "    </tr>\n",
       "    <tr>\n",
       "      <th>50%</th>\n",
       "      <td>8120.000000</td>\n",
       "      <td>835.000000</td>\n",
       "      <td>0.000000</td>\n",
       "      <td>394.000000</td>\n",
       "    </tr>\n",
       "    <tr>\n",
       "      <th>75%</th>\n",
       "      <td>10819.000000</td>\n",
       "      <td>1193.000000</td>\n",
       "      <td>0.000000</td>\n",
       "      <td>544.000000</td>\n",
       "    </tr>\n",
       "    <tr>\n",
       "      <th>max</th>\n",
       "      <td>501810.000000</td>\n",
       "      <td>6962.000000</td>\n",
       "      <td>1536.000000</td>\n",
       "      <td>4500.000000</td>\n",
       "    </tr>\n",
       "  </tbody>\n",
       "</table>\n",
       "</div>"
      ],
      "text/plain": [
       "             LotArea     TtlBsmtSF      PoolArea    GarageArea\n",
       "count   18221.000000  18221.000000  18221.000000  18221.000000\n",
       "mean     8701.858295    753.208715      2.431974    374.130564\n",
       "std     11456.041449    639.754996     40.040136    278.454910\n",
       "min         0.000000      0.000000      0.000000      0.000000\n",
       "25%      2915.000000      0.000000      0.000000    166.000000\n",
       "50%      8120.000000    835.000000      0.000000    394.000000\n",
       "75%     10819.000000   1193.000000      0.000000    544.000000\n",
       "max    501810.000000   6962.000000   1536.000000   4500.000000"
      ]
     },
     "execution_count": 19,
     "metadata": {},
     "output_type": "execute_result"
    }
   ],
   "source": [
    "df_RE_latest.describe().filter(regex = \"Area|SF\")"
   ]
  },
  {
   "cell_type": "code",
   "execution_count": 18,
   "metadata": {},
   "outputs": [
    {
     "data": {
      "text/html": [
       "<div>\n",
       "<style scoped>\n",
       "    .dataframe tbody tr th:only-of-type {\n",
       "        vertical-align: middle;\n",
       "    }\n",
       "\n",
       "    .dataframe tbody tr th {\n",
       "        vertical-align: top;\n",
       "    }\n",
       "\n",
       "    .dataframe thead th {\n",
       "        text-align: right;\n",
       "    }\n",
       "</style>\n",
       "<table border=\"1\" class=\"dataframe\">\n",
       "  <thead>\n",
       "    <tr style=\"text-align: right;\">\n",
       "      <th></th>\n",
       "      <th>Ext1</th>\n",
       "      <th>Ext2</th>\n",
       "      <th>count</th>\n",
       "    </tr>\n",
       "  </thead>\n",
       "  <tbody>\n",
       "    <tr>\n",
       "      <th>0</th>\n",
       "      <td>VinylSd</td>\n",
       "      <td>VinylSd</td>\n",
       "      <td>4412</td>\n",
       "    </tr>\n",
       "    <tr>\n",
       "      <th>1</th>\n",
       "      <td>MetalSd</td>\n",
       "      <td>MetalSd</td>\n",
       "      <td>2133</td>\n",
       "    </tr>\n",
       "    <tr>\n",
       "      <th>2</th>\n",
       "      <td>HdBoard</td>\n",
       "      <td>HdBoard</td>\n",
       "      <td>1773</td>\n",
       "    </tr>\n",
       "    <tr>\n",
       "      <th>3</th>\n",
       "      <td>Wd Sdng</td>\n",
       "      <td>Wd Sdng</td>\n",
       "      <td>1655</td>\n",
       "    </tr>\n",
       "    <tr>\n",
       "      <th>4</th>\n",
       "      <td>MetalSd</td>\n",
       "      <td>BrkFace</td>\n",
       "      <td>1314</td>\n",
       "    </tr>\n",
       "    <tr>\n",
       "      <th>...</th>\n",
       "      <td>...</td>\n",
       "      <td>...</td>\n",
       "      <td>...</td>\n",
       "    </tr>\n",
       "    <tr>\n",
       "      <th>134</th>\n",
       "      <td>VinylSd</td>\n",
       "      <td>No Data</td>\n",
       "      <td>1</td>\n",
       "    </tr>\n",
       "    <tr>\n",
       "      <th>135</th>\n",
       "      <td>Stone</td>\n",
       "      <td>Wd Sdng</td>\n",
       "      <td>1</td>\n",
       "    </tr>\n",
       "    <tr>\n",
       "      <th>136</th>\n",
       "      <td>Stone</td>\n",
       "      <td>Stone</td>\n",
       "      <td>1</td>\n",
       "    </tr>\n",
       "    <tr>\n",
       "      <th>137</th>\n",
       "      <td>Stone</td>\n",
       "      <td>BrkFace</td>\n",
       "      <td>1</td>\n",
       "    </tr>\n",
       "    <tr>\n",
       "      <th>138</th>\n",
       "      <td>Plywood</td>\n",
       "      <td>CmentBd</td>\n",
       "      <td>1</td>\n",
       "    </tr>\n",
       "  </tbody>\n",
       "</table>\n",
       "<p>139 rows × 3 columns</p>\n",
       "</div>"
      ],
      "text/plain": [
       "        Ext1     Ext2  count\n",
       "0    VinylSd  VinylSd   4412\n",
       "1    MetalSd  MetalSd   2133\n",
       "2    HdBoard  HdBoard   1773\n",
       "3    Wd Sdng  Wd Sdng   1655\n",
       "4    MetalSd  BrkFace   1314\n",
       "..       ...      ...    ...\n",
       "134  VinylSd  No Data      1\n",
       "135    Stone  Wd Sdng      1\n",
       "136    Stone    Stone      1\n",
       "137    Stone  BrkFace      1\n",
       "138  Plywood  CmentBd      1\n",
       "\n",
       "[139 rows x 3 columns]"
      ]
     },
     "execution_count": 18,
     "metadata": {},
     "output_type": "execute_result"
    }
   ],
   "source": [
    "df_RE_latest.filter(regex = \"Ext\").value_counts().rename(\"count\").reset_index()"
   ]
  },
  {
   "cell_type": "code",
   "execution_count": 7,
   "metadata": {},
   "outputs": [
    {
     "data": {
      "text/plain": [
       "<AxesSubplot:>"
      ]
     },
     "execution_count": 7,
     "metadata": {},
     "output_type": "execute_result"
    },
    {
     "data": {
      "image/png": "[encoded data removed]",
      "text/plain": [
       "<Figure size 432x288 with 1 Axes>"
      ]
     },
     "metadata": {
      "needs_background": "light"
     },
     "output_type": "display_data"
    }
   ],
   "source": [
    "df_RE_latest.YrSold_YYYY.value_counts().plot.bar()"
   ]
  },
  {
   "cell_type": "code",
   "execution_count": 11,
   "metadata": {},
   "outputs": [
    {
     "data": {
      "text/plain": [
       "6.0    115\n",
       "7.0    114\n",
       "5.0    105\n",
       "4.0     94\n",
       "3.0     69\n",
       "1.0     64\n",
       "8.0     52\n",
       "2.0     44\n",
       "Name: MoSold_MM, dtype: int64"
      ]
     },
     "execution_count": 11,
     "metadata": {},
     "output_type": "execute_result"
    }
   ],
   "source": [
    "df_RE_latest.query(\"YrSold_YYYY == 2021\").MoSold_MM.value_counts()"
   ]
  },
  {
   "cell_type": "code",
   "execution_count": 32,
   "metadata": {},
   "outputs": [
    {
     "data": {
      "text/plain": [
       "(3.65296803652968, 0.33185840707964603)"
      ]
     },
     "execution_count": 32,
     "metadata": {},
     "output_type": "execute_result"
    }
   ],
   "source": [
    "#Percentage of duplicate records for 2021 and 2019 (3.65% and 0.331% respectively)\n",
    "((df_RE_latest.query(\"YrSold_YYYY == 2021\").duplicated().sum()/df_RE_latest.query(\"YrSold_YYYY == 2021\").shape[0])*100,\n",
    " (df_RE_latest.query(\"YrSold_YYYY == 2019\").duplicated().sum()/df_RE_latest.query(\"YrSold_YYYY == 2019\").shape[0])*100)"
   ]
  },
  {
   "cell_type": "code",
   "execution_count": 29,
   "metadata": {},
   "outputs": [
    {
     "data": {
      "text/plain": [
       "904"
      ]
     },
     "execution_count": 29,
     "metadata": {},
     "output_type": "execute_result"
    }
   ],
   "source": [
    "df_RE_latest.query(\"YrSold_YYYY == 2019\").shape[0]"
   ]
  },
  {
   "cell_type": "code",
   "execution_count": 21,
   "metadata": {},
   "outputs": [
    {
     "data": {
      "image/png": "[encoded data removed]",
      "text/plain": [
       "<Figure size 432x288 with 1 Axes>"
      ]
     },
     "metadata": {
      "needs_background": "light"
     },
     "output_type": "display_data"
    }
   ],
   "source": [
    "#SalePrice distributions for 2019 and 2021\n",
    "df_RE_2019.SalePrice.plot.hist(alpha = 0.5, label = '2019')\n",
    "df_RE_2021.SalePrice.plot.hist(alpha = 0.5, label = '2021')\n",
    "plt.legend()\n",
    "plt.show()"
   ]
  },
  {
   "cell_type": "code",
   "execution_count": 31,
   "metadata": {},
   "outputs": [
    {
     "data": {
      "text/plain": [
       "<AxesSubplot:xlabel='Year', ylabel='GLA'>"
      ]
     },
     "execution_count": 31,
     "metadata": {},
     "output_type": "execute_result"
    },
    {
     "data": {
      "image/png": "[encoded data removed]",
      "text/plain": [
       "<Figure size 432x288 with 1 Axes>"
      ]
     },
     "metadata": {
      "needs_background": "light"
     },
     "output_type": "display_data"
    }
   ],
   "source": [
    "df_boxplot = pd.DataFrame([[GLA, 2019] for GLA in df_RE_2019.GLA] + [[GLA, 2021] for GLA in df_RE_2021.GLA], columns = [\"GLA\", \"Year\"])\n",
    "sns.boxplot(x = \"Year\", y = \"GLA\", data = df_boxplot)\n",
    "# df_RE_2019.GLA.plot.box()\n",
    "# df_RE_2021.GLA.plot.box()\n",
    "# plt.show()"
   ]
  },
  {
   "cell_type": "code",
   "execution_count": 40,
   "metadata": {},
   "outputs": [
    {
     "data": {
      "text/plain": [
       "0.5396491898458086"
      ]
     },
     "execution_count": 40,
     "metadata": {},
     "output_type": "execute_result"
    }
   ],
   "source": [
    "df_RE_2021.GLA.skew()"
   ]
  }
 ],
 "metadata": {
  "kernelspec": {
   "display_name": "base",
   "language": "python",
   "name": "python3"
  },
  "language_info": {
   "codemirror_mode": {
    "name": "ipython",
    "version": 3
   },
   "file_extension": ".py",
   "mimetype": "text/x-python",
   "name": "python",
   "nbconvert_exporter": "python",
   "pygments_lexer": "ipython3",
   "version": "3.9.12"
  },
  "orig_nbformat": 4
 },
 "nbformat": 4,
 "nbformat_minor": 2
}
