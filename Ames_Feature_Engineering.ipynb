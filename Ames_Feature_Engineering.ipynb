{
 "cells": [
  {
   "cell_type": "code",
   "execution_count": 1,
   "metadata": {},
   "outputs": [],
   "source": [
    "import pandas as pd\n",
    "import numpy as np\n",
    "import matplotlib.pyplot as plt\n",
    "import seaborn as sns\n",
    "from sklearn.ensemble import RandomForestRegressor\n",
    "from sklearn.preprocessing import LabelEncoder\n",
    "from sklearn.linear_model import LinearRegression, Ridge, Lasso, LassoCV, ElasticNet\n",
    "import statsmodels.api as sm\n",
    "import statsmodels.formula.api as smf\n",
    "#from statsmodels.stats.outliers_influence import variance_inflation_factor\n",
    "#import requests\n",
    "import json\n",
    "import time\n",
    "from Ames_Functions import *\n",
    "import pickle\n",
    "pd.set_option(\"display.max_columns\", None)"
   ]
  },
  {
   "cell_type": "code",
   "execution_count": 213,
   "metadata": {},
   "outputs": [],
   "source": [
    "df_house2021 = load_state_pkl()[\"df_RE_latlong2021\"][0].set_index(\"SaleID\")\n",
    "df_house2019 = load_state_pkl()[\"df_RE_latlong2019\"][0].set_index(\"SaleID\")\n",
    "df_biz = pd.read_csv(\"df_EssentialLatLong_v2.csv\")\n",
    "#df_min_distances = pd.read_csv(\"df_min_distances.csv\", index_col = 0)\n",
    "df_driv_time_final2019 = load_state_pkl()[\"2019dfs_for_feature_engineering\"][0].filter(regex = \"_time\")\n",
    "df_driv_time_final2021 = load_state_pkl()[\"2021dfs_for_feature_engineering\"][0].filter(regex = \"_time\")"
   ]
  },
  {
   "cell_type": "code",
   "execution_count": 215,
   "metadata": {},
   "outputs": [
    {
     "data": {
      "text/html": [
       "<div>\n",
       "<style scoped>\n",
       "    .dataframe tbody tr th:only-of-type {\n",
       "        vertical-align: middle;\n",
       "    }\n",
       "\n",
       "    .dataframe tbody tr th {\n",
       "        vertical-align: top;\n",
       "    }\n",
       "\n",
       "    .dataframe thead th {\n",
       "        text-align: right;\n",
       "    }\n",
       "</style>\n",
       "<table border=\"1\" class=\"dataframe\">\n",
       "  <thead>\n",
       "    <tr style=\"text-align: right;\">\n",
       "      <th></th>\n",
       "      <th>Arts_time</th>\n",
       "      <th>Elem_School_time</th>\n",
       "      <th>Golf_time</th>\n",
       "      <th>Gym_time</th>\n",
       "      <th>High_School_time</th>\n",
       "      <th>Historic_time</th>\n",
       "      <th>ISU_time</th>\n",
       "      <th>Library_time</th>\n",
       "      <th>Medical_time</th>\n",
       "      <th>Movies_time</th>\n",
       "      <th>Organic_Groceries_time</th>\n",
       "      <th>Park_time</th>\n",
       "      <th>Recreation_time</th>\n",
       "      <th>Religion_time</th>\n",
       "      <th>Restaurant_time</th>\n",
       "      <th>Shopping_time</th>\n",
       "      <th>Spa_time</th>\n",
       "      <th>Sports_Venue_time</th>\n",
       "    </tr>\n",
       "    <tr>\n",
       "      <th>SaleID</th>\n",
       "      <th></th>\n",
       "      <th></th>\n",
       "      <th></th>\n",
       "      <th></th>\n",
       "      <th></th>\n",
       "      <th></th>\n",
       "      <th></th>\n",
       "      <th></th>\n",
       "      <th></th>\n",
       "      <th></th>\n",
       "      <th></th>\n",
       "      <th></th>\n",
       "      <th></th>\n",
       "      <th></th>\n",
       "      <th></th>\n",
       "      <th></th>\n",
       "      <th></th>\n",
       "      <th></th>\n",
       "    </tr>\n",
       "  </thead>\n",
       "  <tbody>\n",
       "    <tr>\n",
       "      <th>2</th>\n",
       "      <td>633.1</td>\n",
       "      <td>340.3</td>\n",
       "      <td>131.2</td>\n",
       "      <td>288.2</td>\n",
       "      <td>500.7</td>\n",
       "      <td>606.4</td>\n",
       "      <td>518.9</td>\n",
       "      <td>601.5</td>\n",
       "      <td>565.2</td>\n",
       "      <td>777.8</td>\n",
       "      <td>267.9</td>\n",
       "      <td>503.6</td>\n",
       "      <td>513.0</td>\n",
       "      <td>85.5</td>\n",
       "      <td>278.6</td>\n",
       "      <td>421.6</td>\n",
       "      <td>425.7</td>\n",
       "      <td>781.4</td>\n",
       "    </tr>\n",
       "    <tr>\n",
       "      <th>3</th>\n",
       "      <td>633.1</td>\n",
       "      <td>340.3</td>\n",
       "      <td>131.2</td>\n",
       "      <td>288.2</td>\n",
       "      <td>500.7</td>\n",
       "      <td>606.4</td>\n",
       "      <td>518.9</td>\n",
       "      <td>601.5</td>\n",
       "      <td>565.2</td>\n",
       "      <td>777.8</td>\n",
       "      <td>267.9</td>\n",
       "      <td>503.6</td>\n",
       "      <td>513.0</td>\n",
       "      <td>85.5</td>\n",
       "      <td>278.6</td>\n",
       "      <td>421.6</td>\n",
       "      <td>425.7</td>\n",
       "      <td>781.4</td>\n",
       "    </tr>\n",
       "    <tr>\n",
       "      <th>18</th>\n",
       "      <td>642.9</td>\n",
       "      <td>350.1</td>\n",
       "      <td>141.0</td>\n",
       "      <td>298.0</td>\n",
       "      <td>510.5</td>\n",
       "      <td>616.2</td>\n",
       "      <td>528.7</td>\n",
       "      <td>611.3</td>\n",
       "      <td>575.0</td>\n",
       "      <td>787.6</td>\n",
       "      <td>277.7</td>\n",
       "      <td>513.4</td>\n",
       "      <td>522.8</td>\n",
       "      <td>95.3</td>\n",
       "      <td>288.4</td>\n",
       "      <td>431.4</td>\n",
       "      <td>435.5</td>\n",
       "      <td>791.2</td>\n",
       "    </tr>\n",
       "    <tr>\n",
       "      <th>19</th>\n",
       "      <td>646.1</td>\n",
       "      <td>353.3</td>\n",
       "      <td>144.2</td>\n",
       "      <td>301.2</td>\n",
       "      <td>513.7</td>\n",
       "      <td>619.4</td>\n",
       "      <td>531.9</td>\n",
       "      <td>614.5</td>\n",
       "      <td>578.2</td>\n",
       "      <td>790.8</td>\n",
       "      <td>280.9</td>\n",
       "      <td>516.6</td>\n",
       "      <td>526.0</td>\n",
       "      <td>98.5</td>\n",
       "      <td>291.6</td>\n",
       "      <td>434.6</td>\n",
       "      <td>438.7</td>\n",
       "      <td>794.4</td>\n",
       "    </tr>\n",
       "    <tr>\n",
       "      <th>20</th>\n",
       "      <td>649.4</td>\n",
       "      <td>356.6</td>\n",
       "      <td>147.5</td>\n",
       "      <td>304.5</td>\n",
       "      <td>517.0</td>\n",
       "      <td>622.7</td>\n",
       "      <td>535.2</td>\n",
       "      <td>617.8</td>\n",
       "      <td>581.5</td>\n",
       "      <td>794.1</td>\n",
       "      <td>284.2</td>\n",
       "      <td>519.9</td>\n",
       "      <td>529.3</td>\n",
       "      <td>101.8</td>\n",
       "      <td>294.9</td>\n",
       "      <td>437.9</td>\n",
       "      <td>442.0</td>\n",
       "      <td>797.7</td>\n",
       "    </tr>\n",
       "    <tr>\n",
       "      <th>...</th>\n",
       "      <td>...</td>\n",
       "      <td>...</td>\n",
       "      <td>...</td>\n",
       "      <td>...</td>\n",
       "      <td>...</td>\n",
       "      <td>...</td>\n",
       "      <td>...</td>\n",
       "      <td>...</td>\n",
       "      <td>...</td>\n",
       "      <td>...</td>\n",
       "      <td>...</td>\n",
       "      <td>...</td>\n",
       "      <td>...</td>\n",
       "      <td>...</td>\n",
       "      <td>...</td>\n",
       "      <td>...</td>\n",
       "      <td>...</td>\n",
       "      <td>...</td>\n",
       "    </tr>\n",
       "    <tr>\n",
       "      <th>22743</th>\n",
       "      <td>350.0</td>\n",
       "      <td>276.6</td>\n",
       "      <td>318.9</td>\n",
       "      <td>403.4</td>\n",
       "      <td>618.3</td>\n",
       "      <td>391.4</td>\n",
       "      <td>609.7</td>\n",
       "      <td>356.0</td>\n",
       "      <td>374.6</td>\n",
       "      <td>277.0</td>\n",
       "      <td>430.0</td>\n",
       "      <td>398.6</td>\n",
       "      <td>382.9</td>\n",
       "      <td>559.4</td>\n",
       "      <td>305.3</td>\n",
       "      <td>298.6</td>\n",
       "      <td>418.3</td>\n",
       "      <td>473.6</td>\n",
       "    </tr>\n",
       "    <tr>\n",
       "      <th>22749</th>\n",
       "      <td>378.6</td>\n",
       "      <td>305.2</td>\n",
       "      <td>347.5</td>\n",
       "      <td>432.0</td>\n",
       "      <td>646.9</td>\n",
       "      <td>420.0</td>\n",
       "      <td>638.3</td>\n",
       "      <td>384.6</td>\n",
       "      <td>403.2</td>\n",
       "      <td>305.6</td>\n",
       "      <td>458.6</td>\n",
       "      <td>427.2</td>\n",
       "      <td>411.5</td>\n",
       "      <td>588.0</td>\n",
       "      <td>333.9</td>\n",
       "      <td>327.2</td>\n",
       "      <td>446.9</td>\n",
       "      <td>502.2</td>\n",
       "    </tr>\n",
       "    <tr>\n",
       "      <th>22756</th>\n",
       "      <td>397.4</td>\n",
       "      <td>324.0</td>\n",
       "      <td>366.3</td>\n",
       "      <td>450.8</td>\n",
       "      <td>665.7</td>\n",
       "      <td>438.8</td>\n",
       "      <td>657.1</td>\n",
       "      <td>403.4</td>\n",
       "      <td>422.0</td>\n",
       "      <td>324.4</td>\n",
       "      <td>477.4</td>\n",
       "      <td>446.0</td>\n",
       "      <td>430.3</td>\n",
       "      <td>606.8</td>\n",
       "      <td>352.7</td>\n",
       "      <td>346.0</td>\n",
       "      <td>465.7</td>\n",
       "      <td>521.0</td>\n",
       "    </tr>\n",
       "    <tr>\n",
       "      <th>22768</th>\n",
       "      <td>398.3</td>\n",
       "      <td>324.9</td>\n",
       "      <td>367.2</td>\n",
       "      <td>451.7</td>\n",
       "      <td>666.6</td>\n",
       "      <td>439.7</td>\n",
       "      <td>658.0</td>\n",
       "      <td>404.3</td>\n",
       "      <td>422.9</td>\n",
       "      <td>325.3</td>\n",
       "      <td>478.3</td>\n",
       "      <td>446.9</td>\n",
       "      <td>431.2</td>\n",
       "      <td>607.7</td>\n",
       "      <td>353.6</td>\n",
       "      <td>346.9</td>\n",
       "      <td>466.6</td>\n",
       "      <td>521.9</td>\n",
       "    </tr>\n",
       "    <tr>\n",
       "      <th>22888</th>\n",
       "      <td>302.7</td>\n",
       "      <td>432.4</td>\n",
       "      <td>474.7</td>\n",
       "      <td>335.6</td>\n",
       "      <td>571.0</td>\n",
       "      <td>345.7</td>\n",
       "      <td>562.4</td>\n",
       "      <td>308.7</td>\n",
       "      <td>327.3</td>\n",
       "      <td>386.8</td>\n",
       "      <td>380.5</td>\n",
       "      <td>552.0</td>\n",
       "      <td>335.6</td>\n",
       "      <td>425.2</td>\n",
       "      <td>376.3</td>\n",
       "      <td>273.6</td>\n",
       "      <td>363.9</td>\n",
       "      <td>627.0</td>\n",
       "    </tr>\n",
       "  </tbody>\n",
       "</table>\n",
       "<p>633 rows × 18 columns</p>\n",
       "</div>"
      ],
      "text/plain": [
       "        Arts_time  Elem_School_time  Golf_time  Gym_time  High_School_time  \\\n",
       "SaleID                                                                       \n",
       "2           633.1             340.3      131.2     288.2             500.7   \n",
       "3           633.1             340.3      131.2     288.2             500.7   \n",
       "18          642.9             350.1      141.0     298.0             510.5   \n",
       "19          646.1             353.3      144.2     301.2             513.7   \n",
       "20          649.4             356.6      147.5     304.5             517.0   \n",
       "...           ...               ...        ...       ...               ...   \n",
       "22743       350.0             276.6      318.9     403.4             618.3   \n",
       "22749       378.6             305.2      347.5     432.0             646.9   \n",
       "22756       397.4             324.0      366.3     450.8             665.7   \n",
       "22768       398.3             324.9      367.2     451.7             666.6   \n",
       "22888       302.7             432.4      474.7     335.6             571.0   \n",
       "\n",
       "        Historic_time  ISU_time  Library_time  Medical_time  Movies_time  \\\n",
       "SaleID                                                                     \n",
       "2               606.4     518.9         601.5         565.2        777.8   \n",
       "3               606.4     518.9         601.5         565.2        777.8   \n",
       "18              616.2     528.7         611.3         575.0        787.6   \n",
       "19              619.4     531.9         614.5         578.2        790.8   \n",
       "20              622.7     535.2         617.8         581.5        794.1   \n",
       "...               ...       ...           ...           ...          ...   \n",
       "22743           391.4     609.7         356.0         374.6        277.0   \n",
       "22749           420.0     638.3         384.6         403.2        305.6   \n",
       "22756           438.8     657.1         403.4         422.0        324.4   \n",
       "22768           439.7     658.0         404.3         422.9        325.3   \n",
       "22888           345.7     562.4         308.7         327.3        386.8   \n",
       "\n",
       "        Organic_Groceries_time  Park_time  Recreation_time  Religion_time  \\\n",
       "SaleID                                                                      \n",
       "2                        267.9      503.6            513.0           85.5   \n",
       "3                        267.9      503.6            513.0           85.5   \n",
       "18                       277.7      513.4            522.8           95.3   \n",
       "19                       280.9      516.6            526.0           98.5   \n",
       "20                       284.2      519.9            529.3          101.8   \n",
       "...                        ...        ...              ...            ...   \n",
       "22743                    430.0      398.6            382.9          559.4   \n",
       "22749                    458.6      427.2            411.5          588.0   \n",
       "22756                    477.4      446.0            430.3          606.8   \n",
       "22768                    478.3      446.9            431.2          607.7   \n",
       "22888                    380.5      552.0            335.6          425.2   \n",
       "\n",
       "        Restaurant_time  Shopping_time  Spa_time  Sports_Venue_time  \n",
       "SaleID                                                               \n",
       "2                 278.6          421.6     425.7              781.4  \n",
       "3                 278.6          421.6     425.7              781.4  \n",
       "18                288.4          431.4     435.5              791.2  \n",
       "19                291.6          434.6     438.7              794.4  \n",
       "20                294.9          437.9     442.0              797.7  \n",
       "...                 ...            ...       ...                ...  \n",
       "22743             305.3          298.6     418.3              473.6  \n",
       "22749             333.9          327.2     446.9              502.2  \n",
       "22756             352.7          346.0     465.7              521.0  \n",
       "22768             353.6          346.9     466.6              521.9  \n",
       "22888             376.3          273.6     363.9              627.0  \n",
       "\n",
       "[633 rows x 18 columns]"
      ]
     },
     "execution_count": 215,
     "metadata": {},
     "output_type": "execute_result"
    }
   ],
   "source": [
    "load_state_pkl()[\"2021dfs_for_feature_engineering\"][0].filter(regex = \"_time\")"
   ]
  },
  {
   "cell_type": "code",
   "execution_count": null,
   "metadata": {},
   "outputs": [],
   "source": [
    "# df_cross = df_house.join(df_biz, how = \"cross\", lsuffix = \"_house\", rsuffix = \"_biz\")\n",
    "# df_cross"
   ]
  },
  {
   "cell_type": "code",
   "execution_count": 98,
   "metadata": {},
   "outputs": [],
   "source": [
    "# df_cross[\"dist\"] = df_cross.apply(lambda x: get_dist(np.array([x.Lat_house, x.Long_house]), np.array([x.Lat_biz, x.Long_biz])), axis = 1)\n",
    "# #df_cross.to_csv(\"df_cross.csv\")"
   ]
  },
  {
   "attachments": {},
   "cell_type": "markdown",
   "metadata": {},
   "source": [
    "## Finding differences in two different variables for feature engineering\n",
    "## (SKIP)"
   ]
  },
  {
   "cell_type": "code",
   "execution_count": 439,
   "metadata": {},
   "outputs": [
    {
     "data": {
      "text/html": [
       "<div>\n",
       "<style scoped>\n",
       "    .dataframe tbody tr th:only-of-type {\n",
       "        vertical-align: middle;\n",
       "    }\n",
       "\n",
       "    .dataframe tbody tr th {\n",
       "        vertical-align: top;\n",
       "    }\n",
       "\n",
       "    .dataframe thead th {\n",
       "        text-align: right;\n",
       "    }\n",
       "</style>\n",
       "<table border=\"1\" class=\"dataframe\">\n",
       "  <thead>\n",
       "    <tr style=\"text-align: right;\">\n",
       "      <th></th>\n",
       "      <th>HS_Lib_diff</th>\n",
       "      <th>SV_Rest_diff</th>\n",
       "      <th>Mov_Rest_diff</th>\n",
       "      <th>Park_Rec_diff</th>\n",
       "      <th>Groc_Shop_diff</th>\n",
       "    </tr>\n",
       "  </thead>\n",
       "  <tbody>\n",
       "    <tr>\n",
       "      <th>HS_Lib_diff</th>\n",
       "      <td>1.000000</td>\n",
       "      <td>-0.727417</td>\n",
       "      <td>-0.547363</td>\n",
       "      <td>-0.152308</td>\n",
       "      <td>-0.219560</td>\n",
       "    </tr>\n",
       "    <tr>\n",
       "      <th>SV_Rest_diff</th>\n",
       "      <td>-0.727417</td>\n",
       "      <td>1.000000</td>\n",
       "      <td>0.848838</td>\n",
       "      <td>-0.122952</td>\n",
       "      <td>0.397418</td>\n",
       "    </tr>\n",
       "    <tr>\n",
       "      <th>Mov_Rest_diff</th>\n",
       "      <td>-0.547363</td>\n",
       "      <td>0.848838</td>\n",
       "      <td>1.000000</td>\n",
       "      <td>-0.274410</td>\n",
       "      <td>0.370700</td>\n",
       "    </tr>\n",
       "    <tr>\n",
       "      <th>Park_Rec_diff</th>\n",
       "      <td>-0.152308</td>\n",
       "      <td>-0.122952</td>\n",
       "      <td>-0.274410</td>\n",
       "      <td>1.000000</td>\n",
       "      <td>-0.468057</td>\n",
       "    </tr>\n",
       "    <tr>\n",
       "      <th>Groc_Shop_diff</th>\n",
       "      <td>-0.219560</td>\n",
       "      <td>0.397418</td>\n",
       "      <td>0.370700</td>\n",
       "      <td>-0.468057</td>\n",
       "      <td>1.000000</td>\n",
       "    </tr>\n",
       "  </tbody>\n",
       "</table>\n",
       "</div>"
      ],
      "text/plain": [
       "                HS_Lib_diff  SV_Rest_diff  Mov_Rest_diff  Park_Rec_diff  \\\n",
       "HS_Lib_diff        1.000000     -0.727417      -0.547363      -0.152308   \n",
       "SV_Rest_diff      -0.727417      1.000000       0.848838      -0.122952   \n",
       "Mov_Rest_diff     -0.547363      0.848838       1.000000      -0.274410   \n",
       "Park_Rec_diff     -0.152308     -0.122952      -0.274410       1.000000   \n",
       "Groc_Shop_diff    -0.219560      0.397418       0.370700      -0.468057   \n",
       "\n",
       "                Groc_Shop_diff  \n",
       "HS_Lib_diff          -0.219560  \n",
       "SV_Rest_diff          0.397418  \n",
       "Mov_Rest_diff         0.370700  \n",
       "Park_Rec_diff        -0.468057  \n",
       "Groc_Shop_diff        1.000000  "
      ]
     },
     "execution_count": 439,
     "metadata": {},
     "output_type": "execute_result"
    }
   ],
   "source": [
    "# (df_driv_final[\"from_time\"]\n",
    "#     .eval(\"HS_Lib_diff = abs(High_School - Library)\")\n",
    "#     .eval(\"SV_Rest_diff = abs(Sports_Venue - Restaurant)\")\n",
    "#     .eval(\"Mov_Rest_diff = abs(Movies-Restaurant)\")\n",
    "#     .eval(\"Park_Rec_diff = abs(Park - Recreation)\")\n",
    "#     .eval(\"Groc_Shop_diff = abs(Organic_Groceries - Shopping)\")\n",
    "# ).filter(regex = \"diff$\").corr()\n",
    "# #Possible ratios to consider:\n",
    "# #High_School/Library\n",
    "# #Sports_Venue/Restaurant\n",
    "# #Movies/Restaurant\n",
    "# #Park/Recreation\n",
    "# #Organic_Groceries/Shopping\n",
    "# #ISU/Library"
   ]
  },
  {
   "attachments": {},
   "cell_type": "markdown",
   "metadata": {},
   "source": [
    "## Finding ratios of distances from two different services for feature engineering \n",
    "## (SKIP)"
   ]
  },
  {
   "cell_type": "code",
   "execution_count": 652,
   "metadata": {},
   "outputs": [
    {
     "data": {
      "text/html": [
       "<div>\n",
       "<style scoped>\n",
       "    .dataframe tbody tr th:only-of-type {\n",
       "        vertical-align: middle;\n",
       "    }\n",
       "\n",
       "    .dataframe tbody tr th {\n",
       "        vertical-align: top;\n",
       "    }\n",
       "\n",
       "    .dataframe thead th {\n",
       "        text-align: right;\n",
       "    }\n",
       "</style>\n",
       "<table border=\"1\" class=\"dataframe\">\n",
       "  <thead>\n",
       "    <tr style=\"text-align: right;\">\n",
       "      <th></th>\n",
       "      <th>High_School_Library_ratio</th>\n",
       "      <th>Sports_Venue_Restaurant_ratio</th>\n",
       "      <th>Movies_Restaurant_ratio</th>\n",
       "      <th>Park_Recreation_ratio</th>\n",
       "      <th>Organic_Groceries_Shopping_ratio</th>\n",
       "      <th>ISU_Library_ratio</th>\n",
       "      <th>SalePrice</th>\n",
       "    </tr>\n",
       "    <tr>\n",
       "      <th>SaleID</th>\n",
       "      <th></th>\n",
       "      <th></th>\n",
       "      <th></th>\n",
       "      <th></th>\n",
       "      <th></th>\n",
       "      <th></th>\n",
       "      <th></th>\n",
       "    </tr>\n",
       "  </thead>\n",
       "  <tbody>\n",
       "    <tr>\n",
       "      <th>2</th>\n",
       "      <td>1.201318</td>\n",
       "      <td>2.804738</td>\n",
       "      <td>2.791816</td>\n",
       "      <td>1.018666</td>\n",
       "      <td>1.573722</td>\n",
       "      <td>1.159183</td>\n",
       "      <td>78000.0</td>\n",
       "    </tr>\n",
       "    <tr>\n",
       "      <th>3</th>\n",
       "      <td>1.201318</td>\n",
       "      <td>2.804738</td>\n",
       "      <td>2.791816</td>\n",
       "      <td>1.018666</td>\n",
       "      <td>1.573722</td>\n",
       "      <td>1.159183</td>\n",
       "      <td>408905.0</td>\n",
       "    </tr>\n",
       "    <tr>\n",
       "      <th>18</th>\n",
       "      <td>1.197453</td>\n",
       "      <td>2.743412</td>\n",
       "      <td>2.730929</td>\n",
       "      <td>1.018309</td>\n",
       "      <td>1.553475</td>\n",
       "      <td>1.156232</td>\n",
       "      <td>434066.0</td>\n",
       "    </tr>\n",
       "    <tr>\n",
       "      <th>19</th>\n",
       "      <td>1.196223</td>\n",
       "      <td>2.724280</td>\n",
       "      <td>2.711934</td>\n",
       "      <td>1.018196</td>\n",
       "      <td>1.547170</td>\n",
       "      <td>1.155292</td>\n",
       "      <td>88000.0</td>\n",
       "    </tr>\n",
       "    <tr>\n",
       "      <th>20</th>\n",
       "      <td>1.194971</td>\n",
       "      <td>2.704985</td>\n",
       "      <td>2.692777</td>\n",
       "      <td>1.018080</td>\n",
       "      <td>1.540816</td>\n",
       "      <td>1.154335</td>\n",
       "      <td>88000.0</td>\n",
       "    </tr>\n",
       "    <tr>\n",
       "      <th>...</th>\n",
       "      <td>...</td>\n",
       "      <td>...</td>\n",
       "      <td>...</td>\n",
       "      <td>...</td>\n",
       "      <td>...</td>\n",
       "      <td>...</td>\n",
       "      <td>...</td>\n",
       "    </tr>\n",
       "    <tr>\n",
       "      <th>22743</th>\n",
       "      <td>1.736798</td>\n",
       "      <td>1.551261</td>\n",
       "      <td>1.102166</td>\n",
       "      <td>1.041003</td>\n",
       "      <td>1.440054</td>\n",
       "      <td>1.712640</td>\n",
       "      <td>220000.0</td>\n",
       "    </tr>\n",
       "    <tr>\n",
       "      <th>22749</th>\n",
       "      <td>1.682007</td>\n",
       "      <td>1.504043</td>\n",
       "      <td>1.092605</td>\n",
       "      <td>1.038153</td>\n",
       "      <td>1.401589</td>\n",
       "      <td>1.659646</td>\n",
       "      <td>217500.0</td>\n",
       "    </tr>\n",
       "    <tr>\n",
       "      <th>22756</th>\n",
       "      <td>1.650223</td>\n",
       "      <td>1.477176</td>\n",
       "      <td>1.087238</td>\n",
       "      <td>1.036486</td>\n",
       "      <td>1.379769</td>\n",
       "      <td>1.628904</td>\n",
       "      <td>229000.0</td>\n",
       "    </tr>\n",
       "    <tr>\n",
       "      <th>22768</th>\n",
       "      <td>1.648776</td>\n",
       "      <td>1.475962</td>\n",
       "      <td>1.086997</td>\n",
       "      <td>1.036410</td>\n",
       "      <td>1.378784</td>\n",
       "      <td>1.627504</td>\n",
       "      <td>311000.0</td>\n",
       "    </tr>\n",
       "    <tr>\n",
       "      <th>22888</th>\n",
       "      <td>1.849692</td>\n",
       "      <td>1.666224</td>\n",
       "      <td>1.027903</td>\n",
       "      <td>1.644815</td>\n",
       "      <td>1.390716</td>\n",
       "      <td>1.821833</td>\n",
       "      <td>125000.0</td>\n",
       "    </tr>\n",
       "  </tbody>\n",
       "</table>\n",
       "<p>633 rows × 7 columns</p>\n",
       "</div>"
      ],
      "text/plain": [
       "        High_School_Library_ratio  Sports_Venue_Restaurant_ratio  \\\n",
       "SaleID                                                             \n",
       "2                        1.201318                       2.804738   \n",
       "3                        1.201318                       2.804738   \n",
       "18                       1.197453                       2.743412   \n",
       "19                       1.196223                       2.724280   \n",
       "20                       1.194971                       2.704985   \n",
       "...                           ...                            ...   \n",
       "22743                    1.736798                       1.551261   \n",
       "22749                    1.682007                       1.504043   \n",
       "22756                    1.650223                       1.477176   \n",
       "22768                    1.648776                       1.475962   \n",
       "22888                    1.849692                       1.666224   \n",
       "\n",
       "        Movies_Restaurant_ratio  Park_Recreation_ratio  \\\n",
       "SaleID                                                   \n",
       "2                      2.791816               1.018666   \n",
       "3                      2.791816               1.018666   \n",
       "18                     2.730929               1.018309   \n",
       "19                     2.711934               1.018196   \n",
       "20                     2.692777               1.018080   \n",
       "...                         ...                    ...   \n",
       "22743                  1.102166               1.041003   \n",
       "22749                  1.092605               1.038153   \n",
       "22756                  1.087238               1.036486   \n",
       "22768                  1.086997               1.036410   \n",
       "22888                  1.027903               1.644815   \n",
       "\n",
       "        Organic_Groceries_Shopping_ratio  ISU_Library_ratio  SalePrice  \n",
       "SaleID                                                                  \n",
       "2                               1.573722           1.159183    78000.0  \n",
       "3                               1.573722           1.159183   408905.0  \n",
       "18                              1.553475           1.156232   434066.0  \n",
       "19                              1.547170           1.155292    88000.0  \n",
       "20                              1.540816           1.154335    88000.0  \n",
       "...                                  ...                ...        ...  \n",
       "22743                           1.440054           1.712640   220000.0  \n",
       "22749                           1.401589           1.659646   217500.0  \n",
       "22756                           1.379769           1.628904   229000.0  \n",
       "22768                           1.378784           1.627504   311000.0  \n",
       "22888                           1.390716           1.821833   125000.0  \n",
       "\n",
       "[633 rows x 7 columns]"
      ]
     },
     "execution_count": 652,
     "metadata": {},
     "output_type": "execute_result"
    }
   ],
   "source": [
    "#Possible ratios to consider:\n",
    "#High_School/Library\n",
    "#Sports_Venue/Restaurant\n",
    "#Movies/Restaurant\n",
    "#Park/Recreation\n",
    "#Organic_Groceries/Shopping\n",
    "#ISU/Library\n",
    "\n",
    "ratio_dict = {}\n",
    "\n",
    "for a, b in [(\"High_School\", \"Library\"), (\"Sports_Venue\", \"Restaurant\"), (\"Movies\", \"Restaurant\"), (\"Park\", \"Recreation\"), (\"Organic_Groceries\", \"Shopping\"), (\"ISU\", \"Library\")]:\n",
    "      ratio_dict[f\"{a}_{b}_ratio\"] = (df_driv_final[\"from_time\"]\n",
    "                                                .apply(lambda x: x[a]/x[b] if x[a] > x[b] else x[b]/x[a], axis = 1)\n",
    "                                                .rename(f\"{a}_{b}_ratio\")\n",
    "                                    )\n",
    "\n",
    "pd.DataFrame(ratio_dict).join(df_driv_final[\"from_time\"].SalePrice)"
   ]
  },
  {
   "cell_type": "code",
   "execution_count": null,
   "metadata": {},
   "outputs": [],
   "source": [
    "EDA_report(pd.DataFrame(ratio_dict).drop([\"Sports_Venue_Restaurant_ratio\", \"ISU_Library_ratio\"], axis = 1).join(df_driv_final[\"from_time\"].SalePrice))"
   ]
  },
  {
   "cell_type": "code",
   "execution_count": 665,
   "metadata": {},
   "outputs": [
    {
     "data": {
      "text/plain": [
       "[2.6474191730790873,\n",
       " 2.0026501116710853,\n",
       " 2.9995764720823432,\n",
       " 1.1216954870182765]"
      ]
     },
     "execution_count": 665,
     "metadata": {},
     "output_type": "execute_result"
    }
   ],
   "source": [
    "get_vif(pd.DataFrame(ratio_dict).drop([\"Sports_Venue_Restaurant_ratio\", \"ISU_Library_ratio\"], axis = 1))"
   ]
  },
  {
   "attachments": {},
   "cell_type": "markdown",
   "metadata": {},
   "source": [
    "## Lasso feature selection section using lassoCV"
   ]
  },
  {
   "attachments": {},
   "cell_type": "markdown",
   "metadata": {},
   "source": [
    "### 2021 section"
   ]
  },
  {
   "cell_type": "code",
   "execution_count": null,
   "metadata": {},
   "outputs": [],
   "source": [
    "#checking VIF for all df_driv_final variables\n",
    "get_vif(df_driv_final[\"from_time\"].iloc[:, :-1])"
   ]
  },
  {
   "cell_type": "code",
   "execution_count": 398,
   "metadata": {},
   "outputs": [],
   "source": [
    "X_lassoCV = {}\n",
    "y_lassoCV = {}\n",
    "X_lassoCV[\"from_time\"] = df_driv_final[\"from_time\"].drop(\"SalePrice\", axis = 1)\n",
    "y_lassoCV[\"from_time\"] = df_driv_final[\"from_time\"].SalePrice"
   ]
  },
  {
   "cell_type": "code",
   "execution_count": null,
   "metadata": {},
   "outputs": [],
   "source": [
    "lassoCV = LassoCV(normalize = True)\n",
    "lassoCV.fit(X_lassoCV[\"from_time\"], y_lassoCV[\"from_time\"])\n",
    "lassoCV.feature_names_in_[np.where(lassoCV.coef_ != 0)]"
   ]
  },
  {
   "cell_type": "code",
   "execution_count": null,
   "metadata": {},
   "outputs": [
    {
     "data": {
      "text/html": [
       "<div>\n",
       "<style scoped>\n",
       "    .dataframe tbody tr th:only-of-type {\n",
       "        vertical-align: middle;\n",
       "    }\n",
       "\n",
       "    .dataframe tbody tr th {\n",
       "        vertical-align: top;\n",
       "    }\n",
       "\n",
       "    .dataframe thead th {\n",
       "        text-align: right;\n",
       "    }\n",
       "</style>\n",
       "<table border=\"1\" class=\"dataframe\">\n",
       "  <thead>\n",
       "    <tr style=\"text-align: right;\">\n",
       "      <th></th>\n",
       "      <th>Lat_house</th>\n",
       "      <th>Movies</th>\n",
       "      <th>Park</th>\n",
       "      <th>Recreation</th>\n",
       "      <th>Spa</th>\n",
       "    </tr>\n",
       "  </thead>\n",
       "  <tbody>\n",
       "    <tr>\n",
       "      <th>Lat_house</th>\n",
       "      <td>1.000000</td>\n",
       "      <td>0.574386</td>\n",
       "      <td>0.114682</td>\n",
       "      <td>0.045949</td>\n",
       "      <td>-0.037722</td>\n",
       "    </tr>\n",
       "    <tr>\n",
       "      <th>Movies</th>\n",
       "      <td>0.574386</td>\n",
       "      <td>1.000000</td>\n",
       "      <td>0.563701</td>\n",
       "      <td>0.699062</td>\n",
       "      <td>0.537828</td>\n",
       "    </tr>\n",
       "    <tr>\n",
       "      <th>Park</th>\n",
       "      <td>0.114682</td>\n",
       "      <td>0.563701</td>\n",
       "      <td>1.000000</td>\n",
       "      <td>0.541209</td>\n",
       "      <td>0.569881</td>\n",
       "    </tr>\n",
       "    <tr>\n",
       "      <th>Recreation</th>\n",
       "      <td>0.045949</td>\n",
       "      <td>0.699062</td>\n",
       "      <td>0.541209</td>\n",
       "      <td>1.000000</td>\n",
       "      <td>0.930184</td>\n",
       "    </tr>\n",
       "    <tr>\n",
       "      <th>Spa</th>\n",
       "      <td>-0.037722</td>\n",
       "      <td>0.537828</td>\n",
       "      <td>0.569881</td>\n",
       "      <td>0.930184</td>\n",
       "      <td>1.000000</td>\n",
       "    </tr>\n",
       "  </tbody>\n",
       "</table>\n",
       "</div>"
      ],
      "text/plain": [
       "            Lat_house    Movies      Park  Recreation       Spa\n",
       "Lat_house    1.000000  0.574386  0.114682    0.045949 -0.037722\n",
       "Movies       0.574386  1.000000  0.563701    0.699062  0.537828\n",
       "Park         0.114682  0.563701  1.000000    0.541209  0.569881\n",
       "Recreation   0.045949  0.699062  0.541209    1.000000  0.930184\n",
       "Spa         -0.037722  0.537828  0.569881    0.930184  1.000000"
      ]
     },
     "metadata": {},
     "output_type": "display_data"
    }
   ],
   "source": [
    "#checking VIF for only the lassoCV selected features in df_driv_final\n",
    "lassoCV_coefs = {}\n",
    "\n",
    "lassoCV_coefs[\"from_time\"] = df_driv_final[\"from_time\"][lassoCV.feature_names_in_[np.where(lassoCV.coef_ != 0)]]\n",
    "lassoCV_coefs[\"from_time\"].corr()\n",
    "\n",
    "#get_vif(lassoCV_coefs[\"from_time\"])"
   ]
  },
  {
   "attachments": {},
   "cell_type": "markdown",
   "metadata": {},
   "source": [
    "### 2019 section"
   ]
  },
  {
   "cell_type": "code",
   "execution_count": 13,
   "metadata": {},
   "outputs": [
    {
     "data": {
      "text/plain": [
       "[497.8720803675777,\n",
       " 166.25262248853497,\n",
       " 105.49663127559329,\n",
       " 47.42152644218676,\n",
       " 165.93510868566523,\n",
       " 736.8679303864168,\n",
       " 541.2549557538485,\n",
       " 474.8168538915485,\n",
       " 775.8228970286154,\n",
       " 567.6047378056903,\n",
       " 74.83131469946107,\n",
       " 133.6042345276011,\n",
       " 163.16991644494607,\n",
       " 47.907261158854055,\n",
       " 171.76357040297557,\n",
       " 432.41773327566807,\n",
       " 243.22226438952976,\n",
       " 1123.4555166356288]"
      ]
     },
     "execution_count": 13,
     "metadata": {},
     "output_type": "execute_result"
    }
   ],
   "source": [
    "#checking VIF for all df_driv_final variables\n",
    "get_vif(df_driv_time_final2019.iloc[:, 2:-1])"
   ]
  },
  {
   "cell_type": "code",
   "execution_count": 15,
   "metadata": {},
   "outputs": [],
   "source": [
    "X_lassoCV = {}\n",
    "y_lassoCV = {}\n",
    "X_lassoCV[\"from_time\"] = df_driv_time_final2019.drop(\"SalePrice\", axis = 1)\n",
    "y_lassoCV[\"from_time\"] = df_driv_time_final2019.SalePrice"
   ]
  },
  {
   "cell_type": "code",
   "execution_count": 16,
   "metadata": {},
   "outputs": [
    {
     "name": "stderr",
     "output_type": "stream",
     "text": [
      "/Users/lelandmurrin/opt/anaconda3/lib/python3.9/site-packages/sklearn/linear_model/_base.py:141: FutureWarning: 'normalize' was deprecated in version 1.0 and will be removed in 1.2.\n",
      "If you wish to scale the data, use Pipeline with a StandardScaler in a preprocessing stage. To reproduce the previous behavior:\n",
      "\n",
      "from sklearn.pipeline import make_pipeline\n",
      "\n",
      "model = make_pipeline(StandardScaler(with_mean=False), Lasso())\n",
      "\n",
      "If you wish to pass a sample_weight parameter, you need to pass it as a fit parameter to each step of the pipeline as follows:\n",
      "\n",
      "kwargs = {s[0] + '__sample_weight': sample_weight for s in model.steps}\n",
      "model.fit(X, y, **kwargs)\n",
      "\n",
      "Set parameter alpha to: original_alpha * np.sqrt(n_samples). \n",
      "  warnings.warn(\n"
     ]
    },
    {
     "data": {
      "text/plain": [
       "array(['Golf', 'Library', 'Movies', 'Recreation', 'Religion'],\n",
       "      dtype=object)"
      ]
     },
     "execution_count": 16,
     "metadata": {},
     "output_type": "execute_result"
    }
   ],
   "source": [
    "lassoCV = LassoCV(normalize = True)\n",
    "lassoCV.fit(X_lassoCV[\"from_time\"], y_lassoCV[\"from_time\"])\n",
    "lassoCV.feature_names_in_[np.where(lassoCV.coef_ != 0)]"
   ]
  },
  {
   "cell_type": "code",
   "execution_count": 17,
   "metadata": {},
   "outputs": [
    {
     "data": {
      "text/html": [
       "<div>\n",
       "<style scoped>\n",
       "    .dataframe tbody tr th:only-of-type {\n",
       "        vertical-align: middle;\n",
       "    }\n",
       "\n",
       "    .dataframe tbody tr th {\n",
       "        vertical-align: top;\n",
       "    }\n",
       "\n",
       "    .dataframe thead th {\n",
       "        text-align: right;\n",
       "    }\n",
       "</style>\n",
       "<table border=\"1\" class=\"dataframe\">\n",
       "  <thead>\n",
       "    <tr style=\"text-align: right;\">\n",
       "      <th></th>\n",
       "      <th>Golf</th>\n",
       "      <th>Library</th>\n",
       "      <th>Movies</th>\n",
       "      <th>Recreation</th>\n",
       "      <th>Religion</th>\n",
       "    </tr>\n",
       "  </thead>\n",
       "  <tbody>\n",
       "    <tr>\n",
       "      <th>Golf</th>\n",
       "      <td>1.000000</td>\n",
       "      <td>0.233646</td>\n",
       "      <td>0.275352</td>\n",
       "      <td>0.433672</td>\n",
       "      <td>0.505963</td>\n",
       "    </tr>\n",
       "    <tr>\n",
       "      <th>Library</th>\n",
       "      <td>0.233646</td>\n",
       "      <td>1.000000</td>\n",
       "      <td>0.791193</td>\n",
       "      <td>0.841805</td>\n",
       "      <td>0.652546</td>\n",
       "    </tr>\n",
       "    <tr>\n",
       "      <th>Movies</th>\n",
       "      <td>0.275352</td>\n",
       "      <td>0.791193</td>\n",
       "      <td>1.000000</td>\n",
       "      <td>0.679968</td>\n",
       "      <td>0.396524</td>\n",
       "    </tr>\n",
       "    <tr>\n",
       "      <th>Recreation</th>\n",
       "      <td>0.433672</td>\n",
       "      <td>0.841805</td>\n",
       "      <td>0.679968</td>\n",
       "      <td>1.000000</td>\n",
       "      <td>0.747969</td>\n",
       "    </tr>\n",
       "    <tr>\n",
       "      <th>Religion</th>\n",
       "      <td>0.505963</td>\n",
       "      <td>0.652546</td>\n",
       "      <td>0.396524</td>\n",
       "      <td>0.747969</td>\n",
       "      <td>1.000000</td>\n",
       "    </tr>\n",
       "  </tbody>\n",
       "</table>\n",
       "</div>"
      ],
      "text/plain": [
       "                Golf   Library    Movies  Recreation  Religion\n",
       "Golf        1.000000  0.233646  0.275352    0.433672  0.505963\n",
       "Library     0.233646  1.000000  0.791193    0.841805  0.652546\n",
       "Movies      0.275352  0.791193  1.000000    0.679968  0.396524\n",
       "Recreation  0.433672  0.841805  0.679968    1.000000  0.747969\n",
       "Religion    0.505963  0.652546  0.396524    0.747969  1.000000"
      ]
     },
     "execution_count": 17,
     "metadata": {},
     "output_type": "execute_result"
    }
   ],
   "source": [
    "#checking VIF for only the lassoCV selected features in df_driv_final\n",
    "lassoCV_coefs = {}\n",
    "\n",
    "lassoCV_coefs[\"from_time\"] = df_driv_time_final2019[lassoCV.feature_names_in_[np.where(lassoCV.coef_ != 0)]]\n",
    "lassoCV_coefs[\"from_time\"].corr()\n",
    "\n",
    "#get_vif(lassoCV_coefs[\"from_time\"])"
   ]
  },
  {
   "attachments": {},
   "cell_type": "markdown",
   "metadata": {},
   "source": [
    "## Find Homes that had all businesses nearby vs all homes that had businesses far away\n",
    "## (SKIP)"
   ]
  },
  {
   "cell_type": "code",
   "execution_count": null,
   "metadata": {},
   "outputs": [],
   "source": [
    "#TODO: ADD THIS TO A VISUAL ON AMES MAP\n",
    "\n",
    "#mean_shop = np.mean(df_driv_final[\"from_time\"][[\"Shopping\"]])[0]\n",
    "df_nearby = (df_driv_final[\"from_time\"]\n",
    "    .drop([\"Lat_house\", \"Long_house\", \"SalePrice\"], axis = 1)[df_driv_final[\"from_time\"].drop([\"Lat_house\", \"Long_house\", \"SalePrice\"], axis = 1).transform(lambda x: x < x.mean())]\n",
    "    .dropna()\n",
    "    #.isnull()\n",
    "    #.sum(axis = 0)\n",
    "    #.sort_values(ascending = False)\n",
    ") #.plot.hist(alpha = 0.3) #.corr()\n",
    "\n",
    "df_far = (df_driv_final[\"from_time\"]\n",
    "    .drop([\"Lat_house\", \"Long_house\", \"SalePrice\"], axis = 1)[df_driv_final[\"from_time\"].drop([\"Lat_house\", \"Long_house\", \"SalePrice\"], axis = 1).transform(lambda x: x > x.mean())]\n",
    "    .dropna()\n",
    "    #.isnull()\n",
    "    #.sum(axis = 0)\n",
    "    #.sort_values(ascending = False)\n",
    ") #.plot.hist(alpha = 0.3) #.corr()\n",
    "df_far.corr().Library #Library, Elem, "
   ]
  },
  {
   "cell_type": "code",
   "execution_count": null,
   "metadata": {},
   "outputs": [],
   "source": [
    "get_vif(df_far[[\"Library\", \"Historic\"]])"
   ]
  },
  {
   "attachments": {},
   "cell_type": "markdown",
   "metadata": {},
   "source": [
    "## Creating feature for average distance of closest 5 services to each house record"
   ]
  },
  {
   "attachments": {},
   "cell_type": "markdown",
   "metadata": {},
   "source": [
    "### 2021 Section"
   ]
  },
  {
   "cell_type": "code",
   "execution_count": 238,
   "metadata": {},
   "outputs": [
    {
     "data": {
      "text/plain": [
       "SaleID\n",
       "2        210.28\n",
       "3        210.28\n",
       "18       220.08\n",
       "19       223.28\n",
       "20       226.58\n",
       "          ...  \n",
       "22743    295.28\n",
       "22749    323.88\n",
       "22756    342.68\n",
       "22768    343.58\n",
       "22888    309.58\n",
       "Name: Closest_5, Length: 633, dtype: float64"
      ]
     },
     "execution_count": 238,
     "metadata": {},
     "output_type": "execute_result"
    }
   ],
   "source": [
    "df_closest2021 = {}\n",
    "\n",
    "for i in [1, 5, 10, 15]:\n",
    "    df_closest2021[f\"Closest_{i}\"] = (df_driv_time_final2021\n",
    "        #.drop([\"Lat_house\", \"Long_house\", \"SalePrice\"], axis = 1)\n",
    "        .stack()\n",
    "        .reset_index()\n",
    "        .set_axis([\"SaleID\", \"Service\", \"driv_time\"], axis = 1)\n",
    "        .sort_values(\"driv_time\")\n",
    "        .groupby(\"SaleID\")\n",
    "        .head(i)\n",
    "        .sort_values([\"SaleID\", \"driv_time\"])\n",
    "        .groupby(\"SaleID\")\n",
    "        .driv_time\n",
    "        .mean()\n",
    "        #[[\"driv_time\"]]\n",
    "        #.mean().driv_time\n",
    "    )\n",
    "\n",
    "pd.DataFrame(df_closest2021).Closest_5#.join(df_driv_final[\"from_time\"].SalePrice)"
   ]
  },
  {
   "cell_type": "code",
   "execution_count": 877,
   "metadata": {},
   "outputs": [],
   "source": [
    "selected_features_dict = {}\n",
    "selected_features_dict[\"Closest_5_feature\"] = df_closest['Closest_5']"
   ]
  },
  {
   "cell_type": "code",
   "execution_count": null,
   "metadata": {},
   "outputs": [],
   "source": [
    "#Checking EDA report for each closest 1,5,10,15 businesses to a home\n",
    "for i in [1,5,10,15]:\n",
    "    EDA_report(pd.DataFrame(df_closest)[[f\"Closest_{i}\"]].join(df_driv_final[\"from_time\"].SalePrice))"
   ]
  },
  {
   "attachments": {},
   "cell_type": "markdown",
   "metadata": {},
   "source": [
    "### 2019 Section"
   ]
  },
  {
   "cell_type": "code",
   "execution_count": null,
   "metadata": {},
   "outputs": [],
   "source": [
    "df_closest = {}\n",
    "\n",
    "for i in [1, 5, 10, 15]:\n",
    "    df_closest[f\"Closest_{i}\"] = (df_driv_time_final2019\n",
    "        .drop([\"Lat_house\", \"Long_house\", \"SalePrice\"], axis = 1)\n",
    "        .stack()\n",
    "        .reset_index()\n",
    "        .set_axis([\"SaleID\", \"Service\", \"driv_time\"], axis = 1)\n",
    "        .sort_values(\"driv_time\")\n",
    "        .groupby(\"SaleID\")\n",
    "        .head(i)\n",
    "        .sort_values([\"SaleID\", \"driv_time\"])\n",
    "        .groupby(\"SaleID\")\n",
    "        .driv_time\n",
    "        .mean()\n",
    "        #[[\"driv_time\"]]\n",
    "        #.mean().driv_time\n",
    "    )\n",
    "\n",
    "pd.DataFrame(df_closest).sort_values(\"Closest_1\")#.join(df_driv_final[\"from_time\"].SalePrice)"
   ]
  },
  {
   "cell_type": "code",
   "execution_count": null,
   "metadata": {},
   "outputs": [],
   "source": [
    "selected_features_dict = {}\n",
    "selected_features_dict[\"Closest_5_feature\"] = df_closest['Closest_5']"
   ]
  },
  {
   "cell_type": "code",
   "execution_count": null,
   "metadata": {},
   "outputs": [],
   "source": [
    "#Checking EDA report for each closest 1,5,10,15 businesses to a home\n",
    "for i in [1,5,10,15]:\n",
    "    EDA_report(pd.DataFrame(df_closest)[[f\"Closest_{i}\"]].join(df_driv_time_final2019.SalePrice))"
   ]
  },
  {
   "cell_type": "code",
   "execution_count": 148,
   "metadata": {},
   "outputs": [
    {
     "data": {
      "text/plain": [
       "SaleID\n",
       "92       381.68\n",
       "93       381.68\n",
       "96       339.06\n",
       "98       340.26\n",
       "100      352.76\n",
       "          ...  \n",
       "22745    311.08\n",
       "22747    312.08\n",
       "22750    324.98\n",
       "22755    341.58\n",
       "22797     99.20\n",
       "Name: Closest_5, Length: 901, dtype: float64"
      ]
     },
     "execution_count": 148,
     "metadata": {},
     "output_type": "execute_result"
    }
   ],
   "source": [
    "pd.DataFrame(df_closest).Closest_5"
   ]
  },
  {
   "cell_type": "code",
   "execution_count": 150,
   "metadata": {},
   "outputs": [],
   "source": [
    "def append_closest (df_input, df_times, s_closest_num):\n",
    "    df = df_input.copy()\n",
    "    df_temp = df_times.stack().reset_index().set_axis([\"SaleID\", \"Service\", \"Closest_Time\"], axis = 1).assign(Service = lambda x: x.Service.str.replace(\"_time\", \"_closest\"))\n",
    "\n",
    "    df = (df.join(pd.get_dummies(\n",
    "                            df_temp.loc[df_temp.groupby(\"SaleID\").Closest_Time.idxmin()],\n",
    "                            columns = [\"Service\"]\n",
    "                            )\n",
    "                    .set_index(\"SaleID\")\n",
    "                )\n",
    "            .join(s_closest_num)\n",
    "        )\n",
    "    return df\n",
    "\n",
    "#EDA_report(pd.get_dummies(df_temp.drop(\"SalePrice\", axis = 1), columns = [\"Service\"]).join(df_temp.pop(\"SalePrice\")))"
   ]
  },
  {
   "attachments": {},
   "cell_type": "markdown",
   "metadata": {},
   "source": [
    "## Convenience Measurement Section (average proximity, measured in seconds, to all services)"
   ]
  },
  {
   "attachments": {},
   "cell_type": "markdown",
   "metadata": {},
   "source": [
    "### 2021 Section"
   ]
  },
  {
   "cell_type": "code",
   "execution_count": null,
   "metadata": {},
   "outputs": [],
   "source": [
    "# s_convenience2021 = (df_driv_final[\"from_time\"]\n",
    "#         .drop([\"Lat_house\", \"Long_house\", \"SalePrice\"], axis = 1)\n",
    "#         .stack()\n",
    "#         .reset_index()\n",
    "#         .set_axis([\"SaleID\", \"Service\", \"driv_time\"], axis = 1)\n",
    "#         .sort_values(\"driv_time\")\n",
    "#         .groupby(\"SaleID\")\n",
    "#         .driv_time\n",
    "#         .mean()\n",
    "#         .sort_values()\n",
    "#         .rename(\"Convenience_secs\")\n",
    "#         # .groupby(\"SaleID\")\n",
    "#         # .driv_time\n",
    "#         # .mean()\n",
    "#     )\n",
    "\n",
    "# pd.DataFrame(s_convenience2021).join(df_house2021.SalePrice)"
   ]
  },
  {
   "cell_type": "code",
   "execution_count": null,
   "metadata": {},
   "outputs": [],
   "source": [
    "EDA_report(pd.DataFrame(s_convenience2021).join(pd.DataFrame(df_closest)).join(df_driv_final[\"from_time\"].SalePrice))"
   ]
  },
  {
   "cell_type": "code",
   "execution_count": 890,
   "metadata": {},
   "outputs": [
    {
     "data": {
      "text/plain": [
       "[7.650401862528, 7.650401862528]"
      ]
     },
     "execution_count": 890,
     "metadata": {},
     "output_type": "execute_result"
    }
   ],
   "source": [
    "get_vif(pd.DataFrame(df_central).join(pd.DataFrame(df_closest[\"Closest_1\"].rename(\"Closest_1\"))))"
   ]
  },
  {
   "cell_type": "code",
   "execution_count": null,
   "metadata": {},
   "outputs": [],
   "source": [
    "# selected_features_dict[\"Closest_all_feature\"] = s_convenience2021\n",
    "# selected_features_dict"
   ]
  },
  {
   "attachments": {},
   "cell_type": "markdown",
   "metadata": {},
   "source": [
    "### 2019 Section"
   ]
  },
  {
   "cell_type": "code",
   "execution_count": null,
   "metadata": {},
   "outputs": [],
   "source": [
    "# s_convenience2019 = (df_driv_time_final2019\n",
    "#         #.drop([\"Lat_house\", \"Long_house\", \"SalePrice\"], axis = 1)\n",
    "#         .stack()\n",
    "#         .reset_index()\n",
    "#         .set_axis([\"SaleID\", \"Service\", \"driv_time\"], axis = 1)\n",
    "#         .sort_values(\"driv_time\")\n",
    "#         .groupby(\"SaleID\")\n",
    "#         .driv_time\n",
    "#         .mean()\n",
    "#         .sort_values()\n",
    "#         .rename(\"Convenience_secs\")\n",
    "#         # .groupby(\"SaleID\")\n",
    "#         # .driv_time\n",
    "#         # .mean()\n",
    "#     )\n",
    "\n",
    "# pd.DataFrame(s_convenience2019).join(df_house2019.SalePrice)"
   ]
  },
  {
   "cell_type": "code",
   "execution_count": null,
   "metadata": {},
   "outputs": [],
   "source": [
    "EDA_report(pd.DataFrame(s_convenience2019).join(pd.DataFrame(df_closest)).join(df_house2019.SalePrice))"
   ]
  },
  {
   "cell_type": "code",
   "execution_count": null,
   "metadata": {},
   "outputs": [],
   "source": [
    "get_vif(pd.DataFrame(s_convenience2019).join(pd.DataFrame(df_closest[\"Closest_1\"].rename(\"Closest_1\"))))"
   ]
  },
  {
   "cell_type": "code",
   "execution_count": null,
   "metadata": {},
   "outputs": [],
   "source": [
    "# selected_features_dict[\"Closest_all_feature\"] = s_convenience2019\n",
    "# selected_features_dict"
   ]
  },
  {
   "cell_type": "code",
   "execution_count": null,
   "metadata": {},
   "outputs": [],
   "source": [
    "#Looking at which services are on average farthest away from all houses\n",
    "#TODO: map this out\n",
    "df_driv_time_final2019.iloc[:,2:-1].mean(axis = 0).sort_values(ascending = False)"
   ]
  },
  {
   "cell_type": "code",
   "execution_count": 188,
   "metadata": {},
   "outputs": [],
   "source": [
    "def add_convenience_series (df_input, df_driv_time_final):\n",
    "    df = df_input.copy()\n",
    "    s_convenience = (df_driv_time_final\n",
    "        #.drop([\"Lat_house\", \"Long_house\", \"SalePrice\"], axis = 1)\n",
    "        .stack()\n",
    "        .reset_index()\n",
    "        .set_axis([\"SaleID\", \"Service\", \"driv_time\"], axis = 1)\n",
    "        .sort_values(\"driv_time\")\n",
    "        .groupby(\"SaleID\")\n",
    "        .driv_time\n",
    "        .mean()\n",
    "        .sort_values()\n",
    "        .rename(\"Convenience_secs\")\n",
    "        .apply(round, ndigits = 1)\n",
    "        # .groupby(\"SaleID\")\n",
    "        # .driv_time\n",
    "        # .mean()\n",
    "    )\n",
    "    return df.join(s_convenience)"
   ]
  },
  {
   "attachments": {},
   "cell_type": "markdown",
   "metadata": {},
   "source": [
    "## Centrality Measurement Section (Proximity to Historic Service which contains City Hall and Old Town Historic District)"
   ]
  },
  {
   "cell_type": "code",
   "execution_count": 910,
   "metadata": {},
   "outputs": [
    {
     "data": {
      "text/plain": [
       "dict_keys(['Closest_5_feature', 'Closest_all_feature', 'Central_historic_feature'])"
      ]
     },
     "execution_count": 910,
     "metadata": {},
     "output_type": "execute_result"
    }
   ],
   "source": [
    "selected_features_dict[\"Central_historic_feature\"] = df_driv_final[\"from_time\"].Historic"
   ]
  },
  {
   "cell_type": "code",
   "execution_count": 176,
   "metadata": {},
   "outputs": [
    {
     "data": {
      "text/plain": [
       "SaleID\n",
       "92       626.9\n",
       "93       626.9\n",
       "96       524.0\n",
       "98       525.2\n",
       "100      537.7\n",
       "         ...  \n",
       "22745    407.2\n",
       "22747    408.2\n",
       "22750    421.1\n",
       "22755    437.7\n",
       "22797    135.6\n",
       "Name: Historic_time, Length: 901, dtype: float64"
      ]
     },
     "execution_count": 176,
     "metadata": {},
     "output_type": "execute_result"
    }
   ],
   "source": [
    "df_driv_time_final2019.Historic_time"
   ]
  },
  {
   "cell_type": "code",
   "execution_count": 177,
   "metadata": {},
   "outputs": [],
   "source": [
    "def add_centrality_series (df_input, df_driv_time_final):\n",
    "    df = df_input.copy()\n",
    "    s_centrality = df_driv_time_final.Historic_time.rename(\"Central_historic_feature\")\n",
    "\n",
    "    return df.join(s_centrality)"
   ]
  },
  {
   "attachments": {},
   "cell_type": "markdown",
   "metadata": {},
   "source": [
    "## Count Number of Businesses within 1 minute of each house section"
   ]
  },
  {
   "attachments": {},
   "cell_type": "markdown",
   "metadata": {},
   "source": [
    "### 2021 Section"
   ]
  },
  {
   "cell_type": "code",
   "execution_count": 246,
   "metadata": {},
   "outputs": [
    {
     "data": {
      "text/html": [
       "<div>\n",
       "<style scoped>\n",
       "    .dataframe tbody tr th:only-of-type {\n",
       "        vertical-align: middle;\n",
       "    }\n",
       "\n",
       "    .dataframe tbody tr th {\n",
       "        vertical-align: top;\n",
       "    }\n",
       "\n",
       "    .dataframe thead th {\n",
       "        text-align: right;\n",
       "    }\n",
       "</style>\n",
       "<table border=\"1\" class=\"dataframe\">\n",
       "  <thead>\n",
       "    <tr style=\"text-align: right;\">\n",
       "      <th></th>\n",
       "      <th>biz_60_secs</th>\n",
       "      <th>biz_120_secs</th>\n",
       "      <th>biz_180_secs</th>\n",
       "      <th>biz_240_secs</th>\n",
       "      <th>biz_300_secs</th>\n",
       "      <th>biz_360_secs</th>\n",
       "      <th>biz_420_secs</th>\n",
       "      <th>biz_480_secs</th>\n",
       "      <th>biz_540_secs</th>\n",
       "      <th>biz_600_secs</th>\n",
       "      <th>SalePrice</th>\n",
       "    </tr>\n",
       "    <tr>\n",
       "      <th>SaleID</th>\n",
       "      <th></th>\n",
       "      <th></th>\n",
       "      <th></th>\n",
       "      <th></th>\n",
       "      <th></th>\n",
       "      <th></th>\n",
       "      <th></th>\n",
       "      <th></th>\n",
       "      <th></th>\n",
       "      <th></th>\n",
       "      <th></th>\n",
       "    </tr>\n",
       "  </thead>\n",
       "  <tbody>\n",
       "    <tr>\n",
       "      <th>2</th>\n",
       "      <td>0</td>\n",
       "      <td>1</td>\n",
       "      <td>2</td>\n",
       "      <td>2</td>\n",
       "      <td>5</td>\n",
       "      <td>6</td>\n",
       "      <td>6</td>\n",
       "      <td>8</td>\n",
       "      <td>12</td>\n",
       "      <td>13</td>\n",
       "      <td>78000.0</td>\n",
       "    </tr>\n",
       "    <tr>\n",
       "      <th>3</th>\n",
       "      <td>0</td>\n",
       "      <td>1</td>\n",
       "      <td>2</td>\n",
       "      <td>2</td>\n",
       "      <td>5</td>\n",
       "      <td>6</td>\n",
       "      <td>6</td>\n",
       "      <td>8</td>\n",
       "      <td>12</td>\n",
       "      <td>13</td>\n",
       "      <td>408905.0</td>\n",
       "    </tr>\n",
       "    <tr>\n",
       "      <th>18</th>\n",
       "      <td>0</td>\n",
       "      <td>1</td>\n",
       "      <td>2</td>\n",
       "      <td>2</td>\n",
       "      <td>5</td>\n",
       "      <td>6</td>\n",
       "      <td>6</td>\n",
       "      <td>8</td>\n",
       "      <td>12</td>\n",
       "      <td>13</td>\n",
       "      <td>434066.0</td>\n",
       "    </tr>\n",
       "    <tr>\n",
       "      <th>19</th>\n",
       "      <td>0</td>\n",
       "      <td>1</td>\n",
       "      <td>2</td>\n",
       "      <td>2</td>\n",
       "      <td>4</td>\n",
       "      <td>6</td>\n",
       "      <td>6</td>\n",
       "      <td>8</td>\n",
       "      <td>12</td>\n",
       "      <td>13</td>\n",
       "      <td>88000.0</td>\n",
       "    </tr>\n",
       "    <tr>\n",
       "      <th>20</th>\n",
       "      <td>0</td>\n",
       "      <td>1</td>\n",
       "      <td>2</td>\n",
       "      <td>2</td>\n",
       "      <td>4</td>\n",
       "      <td>6</td>\n",
       "      <td>6</td>\n",
       "      <td>8</td>\n",
       "      <td>12</td>\n",
       "      <td>13</td>\n",
       "      <td>88000.0</td>\n",
       "    </tr>\n",
       "    <tr>\n",
       "      <th>...</th>\n",
       "      <td>...</td>\n",
       "      <td>...</td>\n",
       "      <td>...</td>\n",
       "      <td>...</td>\n",
       "      <td>...</td>\n",
       "      <td>...</td>\n",
       "      <td>...</td>\n",
       "      <td>...</td>\n",
       "      <td>...</td>\n",
       "      <td>...</td>\n",
       "      <td>...</td>\n",
       "    </tr>\n",
       "    <tr>\n",
       "      <th>22743</th>\n",
       "      <td>0</td>\n",
       "      <td>0</td>\n",
       "      <td>0</td>\n",
       "      <td>0</td>\n",
       "      <td>3</td>\n",
       "      <td>7</td>\n",
       "      <td>13</td>\n",
       "      <td>15</td>\n",
       "      <td>15</td>\n",
       "      <td>16</td>\n",
       "      <td>220000.0</td>\n",
       "    </tr>\n",
       "    <tr>\n",
       "      <th>22749</th>\n",
       "      <td>0</td>\n",
       "      <td>0</td>\n",
       "      <td>0</td>\n",
       "      <td>0</td>\n",
       "      <td>0</td>\n",
       "      <td>5</td>\n",
       "      <td>10</td>\n",
       "      <td>14</td>\n",
       "      <td>15</td>\n",
       "      <td>16</td>\n",
       "      <td>217500.0</td>\n",
       "    </tr>\n",
       "    <tr>\n",
       "      <th>22756</th>\n",
       "      <td>0</td>\n",
       "      <td>0</td>\n",
       "      <td>0</td>\n",
       "      <td>0</td>\n",
       "      <td>0</td>\n",
       "      <td>4</td>\n",
       "      <td>7</td>\n",
       "      <td>14</td>\n",
       "      <td>15</td>\n",
       "      <td>15</td>\n",
       "      <td>229000.0</td>\n",
       "    </tr>\n",
       "    <tr>\n",
       "      <th>22768</th>\n",
       "      <td>0</td>\n",
       "      <td>0</td>\n",
       "      <td>0</td>\n",
       "      <td>0</td>\n",
       "      <td>0</td>\n",
       "      <td>4</td>\n",
       "      <td>7</td>\n",
       "      <td>14</td>\n",
       "      <td>15</td>\n",
       "      <td>15</td>\n",
       "      <td>311000.0</td>\n",
       "    </tr>\n",
       "    <tr>\n",
       "      <th>22888</th>\n",
       "      <td>0</td>\n",
       "      <td>0</td>\n",
       "      <td>0</td>\n",
       "      <td>0</td>\n",
       "      <td>1</td>\n",
       "      <td>7</td>\n",
       "      <td>11</td>\n",
       "      <td>14</td>\n",
       "      <td>14</td>\n",
       "      <td>17</td>\n",
       "      <td>125000.0</td>\n",
       "    </tr>\n",
       "  </tbody>\n",
       "</table>\n",
       "<p>633 rows × 11 columns</p>\n",
       "</div>"
      ],
      "text/plain": [
       "        biz_60_secs  biz_120_secs  biz_180_secs  biz_240_secs  biz_300_secs  \\\n",
       "SaleID                                                                        \n",
       "2                 0             1             2             2             5   \n",
       "3                 0             1             2             2             5   \n",
       "18                0             1             2             2             5   \n",
       "19                0             1             2             2             4   \n",
       "20                0             1             2             2             4   \n",
       "...             ...           ...           ...           ...           ...   \n",
       "22743             0             0             0             0             3   \n",
       "22749             0             0             0             0             0   \n",
       "22756             0             0             0             0             0   \n",
       "22768             0             0             0             0             0   \n",
       "22888             0             0             0             0             1   \n",
       "\n",
       "        biz_360_secs  biz_420_secs  biz_480_secs  biz_540_secs  biz_600_secs  \\\n",
       "SaleID                                                                         \n",
       "2                  6             6             8            12            13   \n",
       "3                  6             6             8            12            13   \n",
       "18                 6             6             8            12            13   \n",
       "19                 6             6             8            12            13   \n",
       "20                 6             6             8            12            13   \n",
       "...              ...           ...           ...           ...           ...   \n",
       "22743              7            13            15            15            16   \n",
       "22749              5            10            14            15            16   \n",
       "22756              4             7            14            15            15   \n",
       "22768              4             7            14            15            15   \n",
       "22888              7            11            14            14            17   \n",
       "\n",
       "        SalePrice  \n",
       "SaleID             \n",
       "2         78000.0  \n",
       "3        408905.0  \n",
       "18       434066.0  \n",
       "19        88000.0  \n",
       "20        88000.0  \n",
       "...           ...  \n",
       "22743    220000.0  \n",
       "22749    217500.0  \n",
       "22756    229000.0  \n",
       "22768    311000.0  \n",
       "22888    125000.0  \n",
       "\n",
       "[633 rows x 11 columns]"
      ]
     },
     "execution_count": 246,
     "metadata": {},
     "output_type": "execute_result"
    }
   ],
   "source": [
    "num_biz_dict = {}\n",
    "\n",
    "for i in np.array([1, 2, 3, 4, 5, 6, 7, 8, 9, 10])*60:\n",
    "    num_biz_dict[f\"biz_{i}_secs\"] = (df_driv_time_final2021\n",
    "        #.drop([\"Lat_house\", \"Long_house\", \"SalePrice\"], axis = 1)\n",
    "        .stack()\n",
    "        .reset_index()\n",
    "        .set_axis([\"SaleID\", \"Service\", \"driv_time\"], axis = 1)\n",
    "        .groupby(\"SaleID\")\n",
    "        .driv_time\n",
    "        .apply(lambda x: (x <= i).sum())\n",
    "        .rename(\"count\")\n",
    "        #.where(lambda x: x <= i)\n",
    "        # .query(f\"driv_time <= {i}\")\n",
    "        # .SaleID\n",
    "        # .value_counts()\n",
    "        #.sort_values(\"driv_time\")\n",
    "        #.filter(lambda x: x.driv_time <= i)\n",
    "        # .head(i)\n",
    "        # .sort_values([\"SaleID\", \"driv_time\"])\n",
    "        # .groupby(\"SaleID\")\n",
    "        # .driv_time\n",
    "        # .mean()\n",
    "    )\n",
    "\n",
    "pd.DataFrame(num_biz_dict).join(df_house2021.SalePrice)"
   ]
  },
  {
   "cell_type": "code",
   "execution_count": null,
   "metadata": {},
   "outputs": [],
   "source": [
    "EDA_report(pd.DataFrame(num_biz_dict).join(df_driv_final[\"from_time\"].SalePrice))"
   ]
  },
  {
   "cell_type": "code",
   "execution_count": null,
   "metadata": {},
   "outputs": [],
   "source": [
    "pd.DataFrame(num_biz_dict).biz_480_secs.plot.hist()"
   ]
  },
  {
   "cell_type": "code",
   "execution_count": null,
   "metadata": {},
   "outputs": [],
   "source": [
    "get_vif(pd.DataFrame(num_biz_dict)[[\"biz_180_secs\", \"biz_480_secs\"]])"
   ]
  },
  {
   "cell_type": "code",
   "execution_count": null,
   "metadata": {},
   "outputs": [],
   "source": [
    "selected_features_dict[\"num_biz_180s_feature\"], selected_features_dict[\"num_biz_480s_feature\"] = num_biz_dict[\"biz_180_secs\"], num_biz_dict[\"biz_480_secs\"]\n",
    "selected_features_dict.keys()"
   ]
  },
  {
   "cell_type": "code",
   "execution_count": 740,
   "metadata": {},
   "outputs": [
    {
     "data": {
      "text/plain": [
       "5.944335030132818"
      ]
     },
     "execution_count": 740,
     "metadata": {},
     "output_type": "execute_result"
    }
   ],
   "source": [
    "#mean driving time in minutes for all businesses\n",
    "df_driv_final[\"from_time\"].drop([\"Lat_house\", \"Long_house\", \"SalePrice\"], axis = 1).describe().T['mean'].mean()/60"
   ]
  },
  {
   "cell_type": "code",
   "execution_count": 937,
   "metadata": {},
   "outputs": [],
   "source": [
    "pickle.dump(selected_features_dict, open(\"selected_features_dict.pkl\", 'wb'))"
   ]
  },
  {
   "attachments": {},
   "cell_type": "markdown",
   "metadata": {},
   "source": [
    "### 2019 Section"
   ]
  },
  {
   "cell_type": "code",
   "execution_count": null,
   "metadata": {},
   "outputs": [],
   "source": [
    "num_biz_dict = {}\n",
    "\n",
    "for i in np.array([1, 2, 3, 4, 5, 6, 7, 8, 9, 10])*60:\n",
    "    num_biz_dict[f\"biz_{i}_secs\"] = (df_driv_time_final2019\n",
    "        .drop([\"Lat_house\", \"Long_house\", \"SalePrice\"], axis = 1)\n",
    "        .stack()\n",
    "        .reset_index()\n",
    "        .set_axis([\"SaleID\", \"Service\", \"driv_time\"], axis = 1)\n",
    "        .groupby(\"SaleID\")\n",
    "        .driv_time\n",
    "        .apply(lambda x: (x <= i).sum())\n",
    "        .rename(\"count\")\n",
    "        #.where(lambda x: x <= i)\n",
    "        # .query(f\"driv_time <= {i}\")\n",
    "        # .SaleID\n",
    "        # .value_counts()\n",
    "        #.sort_values(\"driv_time\")\n",
    "        #.filter(lambda x: x.driv_time <= i)\n",
    "        # .head(i)\n",
    "        # .sort_values([\"SaleID\", \"driv_time\"])\n",
    "        # .groupby(\"SaleID\")\n",
    "        # .driv_time\n",
    "        # .mean()\n",
    "    )\n",
    "\n",
    "pd.DataFrame(num_biz_dict).join(df_driv_time_final2019.SalePrice)"
   ]
  },
  {
   "cell_type": "code",
   "execution_count": null,
   "metadata": {},
   "outputs": [],
   "source": [
    "EDA_report(pd.DataFrame(num_biz_dict).join(df_driv_time_final2019.SalePrice))"
   ]
  },
  {
   "cell_type": "code",
   "execution_count": null,
   "metadata": {},
   "outputs": [],
   "source": [
    "pd.DataFrame(num_biz_dict).biz_480_secs.plot.hist()"
   ]
  },
  {
   "cell_type": "code",
   "execution_count": 63,
   "metadata": {},
   "outputs": [
    {
     "data": {
      "text/plain": [
       "[2.493339804500264, 2.493339804500263]"
      ]
     },
     "execution_count": 63,
     "metadata": {},
     "output_type": "execute_result"
    }
   ],
   "source": [
    "get_vif(pd.DataFrame(num_biz_dict)[[\"biz_180_secs\", \"biz_480_secs\"]])"
   ]
  },
  {
   "cell_type": "code",
   "execution_count": null,
   "metadata": {},
   "outputs": [
    {
     "data": {
      "text/plain": [
       "dict_keys(['Closest_5_feature', 'Closest_all_feature', 'Central_historic_feature', 'num_biz_180s_feature', 'num_biz_480s_feature'])"
      ]
     },
     "metadata": {},
     "output_type": "display_data"
    }
   ],
   "source": [
    "selected_features_dict[\"num_biz_180s_feature\"], selected_features_dict[\"num_biz_480s_feature\"] = num_biz_dict[\"biz_180_secs\"], num_biz_dict[\"biz_480_secs\"]\n",
    "selected_features_dict.keys()"
   ]
  },
  {
   "cell_type": "code",
   "execution_count": null,
   "metadata": {},
   "outputs": [
    {
     "data": {
      "text/plain": [
       "5.944335030132818"
      ]
     },
     "metadata": {},
     "output_type": "display_data"
    }
   ],
   "source": [
    "#mean driving time in minutes for all businesses\n",
    "df_driv_final[\"from_time\"].drop([\"Lat_house\", \"Long_house\", \"SalePrice\"], axis = 1).describe().T['mean'].mean()/60"
   ]
  },
  {
   "cell_type": "code",
   "execution_count": 240,
   "metadata": {},
   "outputs": [],
   "source": [
    "def add_num_biz_by_time (df_input, df_driv_time_final, times):\n",
    "        df = df_input.copy()\n",
    "        for t in times: \n",
    "                num_biz = (df_driv_time_final\n",
    "                #.drop([\"Lat_house\", \"Long_house\", \"SalePrice\"], axis = 1)\n",
    "                .stack()\n",
    "                .reset_index()\n",
    "                .set_axis([\"SaleID\", \"Service\", \"driv_time\"], axis = 1)\n",
    "                .groupby(\"SaleID\")\n",
    "                .driv_time\n",
    "                .apply(lambda x: (x <= t).sum())\n",
    "                .rename(f\"biz_{t}_secs\")\n",
    "                )\n",
    "                df = df.join(num_biz)\n",
    "        return df"
   ]
  },
  {
   "attachments": {},
   "cell_type": "markdown",
   "metadata": {},
   "source": [
    "## Count the number of houses around each service"
   ]
  },
  {
   "cell_type": "code",
   "execution_count": 826,
   "metadata": {},
   "outputs": [
    {
     "data": {
      "text/html": [
       "<div>\n",
       "<style scoped>\n",
       "    .dataframe tbody tr th:only-of-type {\n",
       "        vertical-align: middle;\n",
       "    }\n",
       "\n",
       "    .dataframe tbody tr th {\n",
       "        vertical-align: top;\n",
       "    }\n",
       "\n",
       "    .dataframe thead th {\n",
       "        text-align: right;\n",
       "    }\n",
       "</style>\n",
       "<table border=\"1\" class=\"dataframe\">\n",
       "  <thead>\n",
       "    <tr style=\"text-align: right;\">\n",
       "      <th></th>\n",
       "      <th>house_120_secs</th>\n",
       "      <th>house_180_secs</th>\n",
       "      <th>house_240_secs</th>\n",
       "    </tr>\n",
       "    <tr>\n",
       "      <th>Service</th>\n",
       "      <th></th>\n",
       "      <th></th>\n",
       "      <th></th>\n",
       "    </tr>\n",
       "  </thead>\n",
       "  <tbody>\n",
       "    <tr>\n",
       "      <th>Arts</th>\n",
       "      <td>17.67</td>\n",
       "      <td>43.00</td>\n",
       "      <td>64.33</td>\n",
       "    </tr>\n",
       "    <tr>\n",
       "      <th>Elem_School</th>\n",
       "      <td>23.50</td>\n",
       "      <td>49.50</td>\n",
       "      <td>111.00</td>\n",
       "    </tr>\n",
       "    <tr>\n",
       "      <th>Golf</th>\n",
       "      <td>1.33</td>\n",
       "      <td>16.33</td>\n",
       "      <td>33.00</td>\n",
       "    </tr>\n",
       "    <tr>\n",
       "      <th>Gym</th>\n",
       "      <td>27.25</td>\n",
       "      <td>52.75</td>\n",
       "      <td>81.00</td>\n",
       "    </tr>\n",
       "    <tr>\n",
       "      <th>High_School</th>\n",
       "      <td>2.00</td>\n",
       "      <td>28.00</td>\n",
       "      <td>110.00</td>\n",
       "    </tr>\n",
       "    <tr>\n",
       "      <th>Historic</th>\n",
       "      <td>29.00</td>\n",
       "      <td>58.00</td>\n",
       "      <td>80.50</td>\n",
       "    </tr>\n",
       "    <tr>\n",
       "      <th>ISU</th>\n",
       "      <td>0.00</td>\n",
       "      <td>3.00</td>\n",
       "      <td>64.00</td>\n",
       "    </tr>\n",
       "    <tr>\n",
       "      <th>Library</th>\n",
       "      <td>38.00</td>\n",
       "      <td>81.00</td>\n",
       "      <td>114.00</td>\n",
       "    </tr>\n",
       "    <tr>\n",
       "      <th>Medical</th>\n",
       "      <td>74.00</td>\n",
       "      <td>129.00</td>\n",
       "      <td>175.00</td>\n",
       "    </tr>\n",
       "    <tr>\n",
       "      <th>Movies</th>\n",
       "      <td>3.00</td>\n",
       "      <td>5.00</td>\n",
       "      <td>24.00</td>\n",
       "    </tr>\n",
       "    <tr>\n",
       "      <th>Organic_Groceries</th>\n",
       "      <td>34.50</td>\n",
       "      <td>71.00</td>\n",
       "      <td>120.50</td>\n",
       "    </tr>\n",
       "    <tr>\n",
       "      <th>Park</th>\n",
       "      <td>2.00</td>\n",
       "      <td>12.00</td>\n",
       "      <td>31.50</td>\n",
       "    </tr>\n",
       "    <tr>\n",
       "      <th>Recreation</th>\n",
       "      <td>19.50</td>\n",
       "      <td>45.25</td>\n",
       "      <td>59.75</td>\n",
       "    </tr>\n",
       "    <tr>\n",
       "      <th>Religion</th>\n",
       "      <td>28.00</td>\n",
       "      <td>53.50</td>\n",
       "      <td>77.50</td>\n",
       "    </tr>\n",
       "    <tr>\n",
       "      <th>Restaurant</th>\n",
       "      <td>25.67</td>\n",
       "      <td>58.33</td>\n",
       "      <td>93.67</td>\n",
       "    </tr>\n",
       "    <tr>\n",
       "      <th>Shopping</th>\n",
       "      <td>30.50</td>\n",
       "      <td>83.50</td>\n",
       "      <td>113.00</td>\n",
       "    </tr>\n",
       "    <tr>\n",
       "      <th>Spa</th>\n",
       "      <td>22.00</td>\n",
       "      <td>67.00</td>\n",
       "      <td>93.33</td>\n",
       "    </tr>\n",
       "    <tr>\n",
       "      <th>Sports_Venue</th>\n",
       "      <td>1.00</td>\n",
       "      <td>7.00</td>\n",
       "      <td>25.00</td>\n",
       "    </tr>\n",
       "  </tbody>\n",
       "</table>\n",
       "</div>"
      ],
      "text/plain": [
       "                   house_120_secs  house_180_secs  house_240_secs\n",
       "Service                                                          \n",
       "Arts                        17.67           43.00           64.33\n",
       "Elem_School                 23.50           49.50          111.00\n",
       "Golf                         1.33           16.33           33.00\n",
       "Gym                         27.25           52.75           81.00\n",
       "High_School                  2.00           28.00          110.00\n",
       "Historic                    29.00           58.00           80.50\n",
       "ISU                          0.00            3.00           64.00\n",
       "Library                     38.00           81.00          114.00\n",
       "Medical                     74.00          129.00          175.00\n",
       "Movies                       3.00            5.00           24.00\n",
       "Organic_Groceries           34.50           71.00          120.50\n",
       "Park                         2.00           12.00           31.50\n",
       "Recreation                  19.50           45.25           59.75\n",
       "Religion                    28.00           53.50           77.50\n",
       "Restaurant                  25.67           58.33           93.67\n",
       "Shopping                    30.50           83.50          113.00\n",
       "Spa                         22.00           67.00           93.33\n",
       "Sports_Venue                 1.00            7.00           25.00"
      ]
     },
     "execution_count": 826,
     "metadata": {},
     "output_type": "execute_result"
    }
   ],
   "source": [
    "num_house_dict = {}\n",
    "\n",
    "for s in np.array([2, 3, 4])*60:\n",
    "    num_house_dict[f\"house_{s}_secs\"] = (df_driv_final[\"from_time\"]\n",
    "        .drop([\"Lat_house\", \"Long_house\", \"SalePrice\"], axis = 1)\n",
    "        .stack()\n",
    "        .reset_index()\n",
    "        .set_axis([\"SaleID\", \"Service\", \"driv_time_secs\"], axis = 1)\n",
    "        .groupby('Service')\n",
    "        .apply(lambda x: x[x.driv_time_secs < s].driv_time_secs.count())\n",
    "    )\n",
    "\n",
    "pd.DataFrame(num_house_dict).join(df_biz.Service.value_counts().rename(\"Service_count\")).apply(lambda x: round(x/x.Service_count, 2), axis = 1).drop(\"Service_count\", axis = 1)"
   ]
  },
  {
   "cell_type": "code",
   "execution_count": 813,
   "metadata": {},
   "outputs": [
    {
     "data": {
      "text/html": [
       "<div>\n",
       "<style scoped>\n",
       "    .dataframe tbody tr th:only-of-type {\n",
       "        vertical-align: middle;\n",
       "    }\n",
       "\n",
       "    .dataframe tbody tr th {\n",
       "        vertical-align: top;\n",
       "    }\n",
       "\n",
       "    .dataframe thead th {\n",
       "        text-align: right;\n",
       "    }\n",
       "</style>\n",
       "<table border=\"1\" class=\"dataframe\">\n",
       "  <thead>\n",
       "    <tr style=\"text-align: right;\">\n",
       "      <th></th>\n",
       "      <th>mean_salePrice_120_secs</th>\n",
       "      <th>mean_salePrice_180_secs</th>\n",
       "      <th>mean_salePrice_240_secs</th>\n",
       "    </tr>\n",
       "    <tr>\n",
       "      <th>Service</th>\n",
       "      <th></th>\n",
       "      <th></th>\n",
       "      <th></th>\n",
       "    </tr>\n",
       "  </thead>\n",
       "  <tbody>\n",
       "    <tr>\n",
       "      <th>High_School</th>\n",
       "      <td>147375.00</td>\n",
       "      <td>213282.14</td>\n",
       "      <td>206375.00</td>\n",
       "    </tr>\n",
       "    <tr>\n",
       "      <th>Historic</th>\n",
       "      <td>166041.12</td>\n",
       "      <td>184953.67</td>\n",
       "      <td>196863.83</td>\n",
       "    </tr>\n",
       "    <tr>\n",
       "      <th>Medical</th>\n",
       "      <td>178680.08</td>\n",
       "      <td>186369.58</td>\n",
       "      <td>200287.29</td>\n",
       "    </tr>\n",
       "    <tr>\n",
       "      <th>Recreation</th>\n",
       "      <td>184346.26</td>\n",
       "      <td>188721.04</td>\n",
       "      <td>202233.86</td>\n",
       "    </tr>\n",
       "    <tr>\n",
       "      <th>Spa</th>\n",
       "      <td>191721.71</td>\n",
       "      <td>208934.29</td>\n",
       "      <td>212455.78</td>\n",
       "    </tr>\n",
       "    <tr>\n",
       "      <th>Organic_Groceries</th>\n",
       "      <td>202259.42</td>\n",
       "      <td>212034.15</td>\n",
       "      <td>240566.40</td>\n",
       "    </tr>\n",
       "    <tr>\n",
       "      <th>Shopping</th>\n",
       "      <td>204111.48</td>\n",
       "      <td>200157.49</td>\n",
       "      <td>208839.61</td>\n",
       "    </tr>\n",
       "    <tr>\n",
       "      <th>Library</th>\n",
       "      <td>215477.43</td>\n",
       "      <td>204664.55</td>\n",
       "      <td>207509.27</td>\n",
       "    </tr>\n",
       "    <tr>\n",
       "      <th>Arts</th>\n",
       "      <td>218552.83</td>\n",
       "      <td>202680.42</td>\n",
       "      <td>213048.71</td>\n",
       "    </tr>\n",
       "    <tr>\n",
       "      <th>Gym</th>\n",
       "      <td>222924.82</td>\n",
       "      <td>235110.56</td>\n",
       "      <td>248576.00</td>\n",
       "    </tr>\n",
       "    <tr>\n",
       "      <th>Restaurant</th>\n",
       "      <td>224140.26</td>\n",
       "      <td>239809.14</td>\n",
       "      <td>244476.18</td>\n",
       "    </tr>\n",
       "    <tr>\n",
       "      <th>Religion</th>\n",
       "      <td>234739.60</td>\n",
       "      <td>226346.70</td>\n",
       "      <td>240194.62</td>\n",
       "    </tr>\n",
       "    <tr>\n",
       "      <th>Elem_School</th>\n",
       "      <td>234754.79</td>\n",
       "      <td>241150.25</td>\n",
       "      <td>237378.49</td>\n",
       "    </tr>\n",
       "    <tr>\n",
       "      <th>Sports_Venue</th>\n",
       "      <td>340000.00</td>\n",
       "      <td>357857.14</td>\n",
       "      <td>294392.00</td>\n",
       "    </tr>\n",
       "    <tr>\n",
       "      <th>Park</th>\n",
       "      <td>347500.00</td>\n",
       "      <td>297700.00</td>\n",
       "      <td>273684.44</td>\n",
       "    </tr>\n",
       "    <tr>\n",
       "      <th>Golf</th>\n",
       "      <td>366475.00</td>\n",
       "      <td>289985.41</td>\n",
       "      <td>299929.15</td>\n",
       "    </tr>\n",
       "    <tr>\n",
       "      <th>Movies</th>\n",
       "      <td>404966.67</td>\n",
       "      <td>297580.00</td>\n",
       "      <td>205661.67</td>\n",
       "    </tr>\n",
       "    <tr>\n",
       "      <th>ISU</th>\n",
       "      <td>NaN</td>\n",
       "      <td>299766.67</td>\n",
       "      <td>227280.19</td>\n",
       "    </tr>\n",
       "  </tbody>\n",
       "</table>\n",
       "</div>"
      ],
      "text/plain": [
       "                   mean_salePrice_120_secs  mean_salePrice_180_secs  \\\n",
       "Service                                                               \n",
       "High_School                      147375.00                213282.14   \n",
       "Historic                         166041.12                184953.67   \n",
       "Medical                          178680.08                186369.58   \n",
       "Recreation                       184346.26                188721.04   \n",
       "Spa                              191721.71                208934.29   \n",
       "Organic_Groceries                202259.42                212034.15   \n",
       "Shopping                         204111.48                200157.49   \n",
       "Library                          215477.43                204664.55   \n",
       "Arts                             218552.83                202680.42   \n",
       "Gym                              222924.82                235110.56   \n",
       "Restaurant                       224140.26                239809.14   \n",
       "Religion                         234739.60                226346.70   \n",
       "Elem_School                      234754.79                241150.25   \n",
       "Sports_Venue                     340000.00                357857.14   \n",
       "Park                             347500.00                297700.00   \n",
       "Golf                             366475.00                289985.41   \n",
       "Movies                           404966.67                297580.00   \n",
       "ISU                                    NaN                299766.67   \n",
       "\n",
       "                   mean_salePrice_240_secs  \n",
       "Service                                     \n",
       "High_School                      206375.00  \n",
       "Historic                         196863.83  \n",
       "Medical                          200287.29  \n",
       "Recreation                       202233.86  \n",
       "Spa                              212455.78  \n",
       "Organic_Groceries                240566.40  \n",
       "Shopping                         208839.61  \n",
       "Library                          207509.27  \n",
       "Arts                             213048.71  \n",
       "Gym                              248576.00  \n",
       "Restaurant                       244476.18  \n",
       "Religion                         240194.62  \n",
       "Elem_School                      237378.49  \n",
       "Sports_Venue                     294392.00  \n",
       "Park                             273684.44  \n",
       "Golf                             299929.15  \n",
       "Movies                           205661.67  \n",
       "ISU                              227280.19  "
      ]
     },
     "execution_count": 813,
     "metadata": {},
     "output_type": "execute_result"
    }
   ],
   "source": [
    "mean_SalePrice = {}\n",
    "\n",
    "for s in np.array([2, 3, 4])*60:\n",
    "    mean_SalePrice[f\"mean_salePrice_{s}_secs\"] = (df_driv_final[\"from_time\"]\n",
    "        .drop([\"Lat_house\", \"Long_house\"], axis = 1)\n",
    "        .set_index(\"SalePrice\")\n",
    "        .stack()\n",
    "        .reset_index()\n",
    "        .set_axis([\"SalePrice\", \"Service\", \"driv_time_secs\"], axis = 1)\n",
    "        .groupby('Service')\n",
    "        .apply(lambda x: x[x.driv_time_secs < s].SalePrice.mean())\n",
    "        .transform(round, ndigits = 2)\n",
    "    )\n",
    "\n",
    "pd.DataFrame(mean_SalePrice).sort_values(by = \"mean_salePrice_120_secs\")"
   ]
  },
  {
   "cell_type": "code",
   "execution_count": 832,
   "metadata": {},
   "outputs": [],
   "source": [
    "df_nearby_houses = (pd.DataFrame(mean_SalePrice)\n",
    "    .join(pd.DataFrame(num_house_dict)\n",
    "          .join(df_biz.Service.value_counts().rename(\"Service_count\"))\n",
    "          .apply(lambda x: round(x/x.Service_count, 2), axis = 1)\n",
    "          .drop(\"Service_count\", axis = 1))\n",
    "    .sort_values('mean_salePrice_120_secs')\n",
    ")"
   ]
  },
  {
   "cell_type": "code",
   "execution_count": 837,
   "metadata": {},
   "outputs": [
    {
     "data": {
      "text/plain": [
       "[1.697142040569102, 1.697142040569102]"
      ]
     },
     "execution_count": 837,
     "metadata": {},
     "output_type": "execute_result"
    }
   ],
   "source": [
    "get_vif(df_nearby_houses.dropna()[[\"mean_salePrice_120_secs\", \"house_120_secs\"]])"
   ]
  },
  {
   "cell_type": "code",
   "execution_count": null,
   "metadata": {},
   "outputs": [],
   "source": [
    "df_biz.Service.value_counts().rename(\"Service_count\")"
   ]
  },
  {
   "attachments": {},
   "cell_type": "markdown",
   "metadata": {},
   "source": [
    "## Real Estate Dataset Feature Engineering"
   ]
  },
  {
   "attachments": {},
   "cell_type": "markdown",
   "metadata": {},
   "source": [
    "Adding fields: TotalArea and TotalArea_Gar"
   ]
  },
  {
   "cell_type": "code",
   "execution_count": null,
   "metadata": {},
   "outputs": [],
   "source": [
    "# df_house = df_house.eval(\"TotalArea = GLA + TtlBsmtSF\t\").eval(\"TotalArea_Gar = GLA + TtlBsmtSF\t+ GarageArea\")\n",
    "# #df_RE_latlong.eval(\"TotalArea_Gar = GLA + TtlBsmtSF\t+ GarageArea_RE\", inplace = True)\n",
    "# df_house#.filter(regex = \"Area|SF|GLA\")"
   ]
  },
  {
   "attachments": {},
   "cell_type": "markdown",
   "metadata": {},
   "source": [
    "Adding Fields \"Has_Fireplace\" and \"Has_Garage\" and \"Has_Bsmt\""
   ]
  },
  {
   "cell_type": "code",
   "execution_count": 35,
   "metadata": {},
   "outputs": [],
   "source": [
    "# has_feature = lambda x: 1 if x > 0 else 0"
   ]
  },
  {
   "cell_type": "code",
   "execution_count": 52,
   "metadata": {},
   "outputs": [],
   "source": [
    "# df_house[\"Has_Fireplace\"] = df_house.Fireplaces.apply(has_feature)"
   ]
  },
  {
   "cell_type": "code",
   "execution_count": 47,
   "metadata": {},
   "outputs": [],
   "source": [
    "# df_house[\"Has_Garage\"] = df_house.GarageArea.apply(has_feature)"
   ]
  },
  {
   "cell_type": "code",
   "execution_count": 46,
   "metadata": {},
   "outputs": [],
   "source": [
    "# df_house[\"Has_Bsmt\"] = df_house.TtlBsmtSF.apply(has_feature)"
   ]
  },
  {
   "attachments": {},
   "cell_type": "markdown",
   "metadata": {},
   "source": [
    "Adding Field TotalExt and dummy variables for it"
   ]
  },
  {
   "cell_type": "code",
   "execution_count": 114,
   "metadata": {},
   "outputs": [
    {
     "data": {
      "text/plain": [
       "((13,), (16,), (12,), (14,))"
      ]
     },
     "execution_count": 114,
     "metadata": {},
     "output_type": "execute_result"
    }
   ],
   "source": [
    "# df_house2019.Ext1.unique().shape, df_house2019.Ext2.unique().shape, df_house2021.Ext1.unique().shape, df_house2021.Ext2.unique().shape"
   ]
  },
  {
   "cell_type": "code",
   "execution_count": 80,
   "metadata": {},
   "outputs": [],
   "source": [
    "# df_Ext_dummies = pd.get_dummies(df_house.Ext2).rename(columns = {\"Brk Cmn\": \"BrkComm\", \"CmentBd\": \"CemntBd\", \"Wd Shng\": \"WdShing\"})\n",
    "\n",
    "# for col in df_house.Ext1.unique():\n",
    "#     df_Ext_dummies[[col]] += pd.get_dummies(df_house.Ext1)[[col]]\n",
    "\n",
    "# df_Ext_dummies.rename(columns = {\"C'Block\": \"CBlock\"})\n",
    "# df_Ext_dummies.rename(columns = {col:col + \"_Ext\" for col in df_Ext_dummies.columns}, inplace = True)\n",
    "# #(pd.get_dummies(df_house.Ext1)[[\"AsbShng\"]] + pd.get_dummies(df_house.Ext2)[[\"AsbShng\"]]).sum()"
   ]
  },
  {
   "cell_type": "code",
   "execution_count": 84,
   "metadata": {},
   "outputs": [],
   "source": [
    "# df_house = df_house.join(df_Ext_dummies)"
   ]
  },
  {
   "attachments": {},
   "cell_type": "markdown",
   "metadata": {},
   "source": [
    "Adding dummy variable columns for GarageType and HouseStyle"
   ]
  },
  {
   "cell_type": "code",
   "execution_count": 100,
   "metadata": {},
   "outputs": [],
   "source": [
    "# clean_colname = lambda x: x.replace(\"-\", \"_\").replace(\".\", \"_\").replace(\"/\", \"_\").replace(\" \", \"_\")"
   ]
  },
  {
   "cell_type": "code",
   "execution_count": null,
   "metadata": {},
   "outputs": [],
   "source": [
    "# df_house = df_house.join(pd.get_dummies(df_house.GarageType).rename(columns = {col:clean_colname(col) + \"_GrType\" for col in pd.get_dummies(df_house.GarageType).columns}))"
   ]
  },
  {
   "cell_type": "code",
   "execution_count": 98,
   "metadata": {},
   "outputs": [
    {
     "data": {
      "text/plain": [
       "'2_h_5__house'"
      ]
     },
     "execution_count": 98,
     "metadata": {},
     "output_type": "execute_result"
    }
   ],
   "source": [
    "# \"2-h.5 /house\".replace(\"-\", \"_\").replace(\".\", \"_\").replace(\"/\", \"_\").replace(\" \", \"_\")"
   ]
  },
  {
   "cell_type": "code",
   "execution_count": 103,
   "metadata": {},
   "outputs": [],
   "source": [
    "# df_house = df_house.join(pd.get_dummies(df_house.HouseStyle).rename(columns = {col:clean_colname(col) + \"_HsStyle\" for col in pd.get_dummies(df_house.HouseStyle).columns}))"
   ]
  },
  {
   "cell_type": "code",
   "execution_count": 104,
   "metadata": {},
   "outputs": [],
   "source": [
    "# df_house.to_csv(\"df_RE_latlongs_v3.csv\")"
   ]
  },
  {
   "cell_type": "code",
   "execution_count": 96,
   "metadata": {},
   "outputs": [],
   "source": [
    "def transform_RE_features (df_input):\n",
    "    df_RE = df_input.copy()\n",
    "\n",
    "    # Adding Fields \"Has_Fireplace\" and \"Has_Garage\" and \"Has_Bsmt\"\n",
    "    has_feature = lambda x: 1 if x > 0 else 0\n",
    "    df_RE[\"Has_Fireplace\"] = df_RE.Fireplaces.apply(has_feature)\n",
    "    df_RE[\"Has_Garage\"] = df_RE.GarageArea.apply(has_feature)\n",
    "    df_RE[\"Has_Bsmt\"] = df_RE.TtlBsmtSF.apply(has_feature)\n",
    "\n",
    "    # Adding fields: TotalArea and TotalArea_Gar\n",
    "    df_RE = df_RE.eval(\"TotalArea = GLA + TtlBsmtSF\t\").eval(\"TotalArea_Gar = GLA + TtlBsmtSF\t+ GarageArea\")\n",
    "    \n",
    "    # Adding Field TotalExt and dummy variables for it\n",
    "    df_Ext_dummies = pd.get_dummies(df_RE.Ext2).rename(columns = {\"Brk Cmn\": \"BrkComm\", \"CmentBd\": \"CemntBd\", \"Wd Shng\": \"WdShing\"})\n",
    "\n",
    "    for col in df_RE.Ext1.unique():\n",
    "        df_Ext_dummies[[col]] += pd.get_dummies(df_RE.Ext1)[[col]]\n",
    "\n",
    "    df_Ext_dummies.rename(columns = {\"C'Block\": \"CBlock\"}, inplace = True)\n",
    "    df_Ext_dummies.rename(columns = {col:col + \"_Ext\" for col in df_Ext_dummies.columns}, inplace = True)\n",
    "    df_RE = df_RE.join(df_Ext_dummies)\n",
    "\n",
    "    # Adding dummy variable columns for GarageType\n",
    "    clean_colname = lambda x: x.replace(\"-\", \"_\").replace(\".\", \"_\").replace(\"/\", \"_\").replace(\" \", \"_\")\n",
    "    df_RE = df_RE.join(pd.get_dummies(df_RE.GarageType).rename(columns = {col:clean_colname(col) + \"_GrType\" for col in pd.get_dummies(df_RE.GarageType).columns}))\n",
    "\n",
    "    # Adding dummy variable columns for HouseStyle and renaming leading numbers with words\n",
    "    df_RE = df_RE.join(pd.get_dummies(df_RE.HouseStyle).rename(columns = {col:clean_colname(col) + \"_HsStyle\" for col in pd.get_dummies(df_RE.HouseStyle).columns}))\n",
    "    df_RE.rename(columns = {col: col.replace(\" \", \"_\").replace(\"1\", \"One\").replace(\"2\", \"Two\").replace(\"5\", \"Five\") for col in df_RE.columns}, inplace = True)\n",
    "\n",
    "    return df_RE"
   ]
  },
  {
   "cell_type": "code",
   "execution_count": 282,
   "metadata": {},
   "outputs": [
    {
     "data": {
      "text/plain": [
       "Index(['AsbShng_Ext', 'AsphShn_Ext', 'BrkComm_Ext', 'BrkFace_Ext',\n",
       "       'CBlock_Ext', 'CemntBd_Ext', 'HdBoard_Ext', 'ImStucc_Ext',\n",
       "       'MetalSd_Ext', 'No Data_Ext', 'Other_Ext', 'Plywood_Ext', 'Stucco_Ext',\n",
       "       'VinylSd_Ext', 'Wd Sdng_Ext', 'WdShing_Ext'],\n",
       "      dtype='object')"
      ]
     },
     "metadata": {},
     "output_type": "display_data"
    },
    {
     "data": {
      "text/plain": [
       "Index(['AsbShng_Ext', 'BrkComm_Ext', 'BrkFace_Ext', 'CemntBd_Ext',\n",
       "       'HdBoard_Ext', 'ImStucc_Ext', 'MetalSd_Ext', 'No Data_Ext',\n",
       "       'Plywood_Ext', 'Stone_Ext', 'Stucco_Ext', 'VinylSd_Ext', 'Wd Sdng_Ext',\n",
       "       'WdShing_Ext'],\n",
       "      dtype='object')"
      ]
     },
     "metadata": {},
     "output_type": "display_data"
    },
    {
     "data": {
      "text/plain": [
       "{'AsphShn_Ext', 'CBlock_Ext', 'Other_Ext'}"
      ]
     },
     "metadata": {},
     "output_type": "display_data"
    },
    {
     "data": {
      "text/plain": [
       "{'Stone_Ext'}"
      ]
     },
     "execution_count": 282,
     "metadata": {},
     "output_type": "execute_result"
    }
   ],
   "source": [
    " #For diagnostic purposes\n",
    "def Ext_test (df_house):\n",
    "    df_Ext_dummies = pd.get_dummies(df_house.Ext2).rename(columns = {\"Brk Cmn\": \"BrkComm\", \"CmentBd\": \"CemntBd\", \"Wd Shng\": \"WdShing\"})\n",
    "\n",
    "    for col in df_house.Ext1.unique():\n",
    "        df_Ext_dummies[[col]] += pd.get_dummies(df_house.Ext1)[[col]]\n",
    "\n",
    "    df_Ext_dummies.rename(columns = {\"C'Block\": \"CBlock\"}, inplace = True)\n",
    "    df_Ext_dummies.rename(columns = {col:col + \"_Ext\" for col in df_Ext_dummies.columns}, inplace = True)\n",
    "    return df_Ext_dummies.columns\n",
    "\n",
    "display(Ext_test(df_house2019))\n",
    "display(Ext_test(df_house2021))\n",
    "display(set(Ext_test(df_house2019)) - (set(Ext_test(df_house2021))))\n",
    "set(Ext_test(df_house2021)) - (set(Ext_test(df_house2019)))\n"
   ]
  },
  {
   "cell_type": "code",
   "execution_count": 318,
   "metadata": {},
   "outputs": [
    {
     "name": "stderr",
     "output_type": "stream",
     "text": [
      "/var/folders/2n/5k95xl754cb_szsgjkmj33k80000gn/T/ipykernel_12280/3664117225.py:21: FutureWarning: The frame.append method is deprecated and will be removed from pandas in a future version. Use pandas.concat instead.\n",
      "  df_feature_all = df_feature_all2019.eval(\"Year = 2019\").append(df_feature_all2021.eval(\"Year = 2021\")).fillna(0)\n"
     ]
    }
   ],
   "source": [
    "#Preparing df_feature_all for entry into pickle file for 2019, 2021 and both combined into one master dataset (df_feature_all)\n",
    "df_feature_all2019 = (df_house2019\n",
    "    .pipe(transform_RE_features)\n",
    "    .filter(regex = \"Yr|_Ext|Has|Area|SF|Cars|Fireplaces|GrType|HsStyle\").drop([\"YrSold_YYYY\"], axis = 1)\n",
    "    .pipe(append_closest, df_driv_time_final2019, pd.DataFrame(df_closest).Closest_5)\n",
    "    .pipe(add_convenience_series, df_driv_time_final2019)\n",
    "    .pipe(add_centrality_series, df_driv_time_final2019)\n",
    "    .pipe(add_num_biz_by_time, df_driv_time_final2019, [180, 480])\n",
    "    #.isna().any().sum()\n",
    ")\n",
    "\n",
    "df_feature_all2021 = (df_house2021\n",
    "    .pipe(transform_RE_features)\n",
    "    .filter(regex = \"Yr|_Ext|Has|Area|SF|Cars|Fireplaces|GrType|HsStyle\").drop([\"YrSold_YYYY\"], axis = 1)\n",
    "    .pipe(append_closest, df_driv_time_final2021, pd.DataFrame(df_closest2021).Closest_5)\n",
    "    .pipe(add_convenience_series, df_driv_time_final2021)\n",
    "    .pipe(add_centrality_series, df_driv_time_final2021)\n",
    "    .pipe(add_num_biz_by_time, df_driv_time_final2021, [180, 480])\n",
    ")\n",
    "\n",
    "df_feature_all = df_feature_all2019.eval(\"Year = 2019\").append(df_feature_all2021.eval(\"Year = 2021\")).fillna(0)"
   ]
  },
  {
   "cell_type": "code",
   "execution_count": 321,
   "metadata": {},
   "outputs": [],
   "source": [
    "desc = \"post feature engineering including boolean fields for Fireplace/Gar/Bsmt, dummy fields for Ext, GrType and HouseStyle, TotalArea/TotalArea_Gar fields, and drive time related fields (Closest_5, Convenience etc)\"\n",
    "\n",
    "save_state_pkl(\"df_house2021_after_feature_engineering\",\n",
    "                df_feature_all2021,\n",
    "                \"df_house2021 \" + desc\n",
    "                )\n",
    "\n",
    "save_state_pkl(\"df_house2019_after_feature_engineering\",\n",
    "                df_feature_all2019,\n",
    "                \"df_house2019 \" + desc\n",
    "                )\n",
    "\n",
    "save_state_pkl(\"df_house_both_after_feature_engineering\",\n",
    "                df_feature_all,\n",
    "                \"df_house2019 + df_house2021 \" + desc\n",
    "                )"
   ]
  }
 ],
 "metadata": {
  "kernelspec": {
   "display_name": "base",
   "language": "python",
   "name": "python3"
  },
  "language_info": {
   "codemirror_mode": {
    "name": "ipython",
    "version": 3
   },
   "file_extension": ".py",
   "mimetype": "text/x-python",
   "name": "python",
   "nbconvert_exporter": "python",
   "pygments_lexer": "ipython3",
   "version": "3.9.12"
  },
  "orig_nbformat": 4
 },
 "nbformat": 4,
 "nbformat_minor": 2
}
